{
 "cells": [
  {
   "cell_type": "code",
   "execution_count": 3,
   "id": "d92b36e6",
   "metadata": {},
   "outputs": [
    {
     "name": "stdout",
     "output_type": "stream",
     "text": [
      "Initial queue\n",
      "['harini', 'is', 'bad girl']\n",
      "\n",
      "Elements dequeued from queue\n",
      "harini\n",
      "is\n",
      "\n",
      "Queue after removing elements\n",
      "['bad girl']\n"
     ]
    }
   ],
   "source": [
    "# Python program to \n",
    "# demonstrate queue implementation\n",
    "# using list\n",
    "  \n",
    "# Initializing a queue\n",
    "queue = []\n",
    "  \n",
    "# Adding elements to the queue\n",
    "queue.append('harini')\n",
    "queue.append('is')\n",
    "queue.append('bad girl')\n",
    "  \n",
    "print(\"Initial queue\")\n",
    "print(queue)\n",
    "  \n",
    "# Removing elements from the queue\n",
    "print(\"\\nElements dequeued from queue\")\n",
    "print(queue.pop(0))\n",
    "print(queue.pop(0))\n",
    "\n",
    "  \n",
    "print(\"\\nQueue after removing elements\")\n",
    "print(queue)\n",
    "  \n",
    "# Uncommenting print(queue.pop(0))\n",
    "# will raise and IndexError\n",
    "# as the queue is now empty"
   ]
  },
  {
   "cell_type": "code",
   "execution_count": 4,
   "id": "3de3189a",
   "metadata": {},
   "outputs": [],
   "source": [
    "class Queue():\n",
    "    def __init__(self):\n",
    "        self.__queue=[]\n",
    "\n",
    "    def is_empty(self):\n",
    "        if len(self.__queue)==0:\n",
    "            return True\n",
    "        else:\n",
    "            return False\n",
    "\n",
    "    def size(self):\n",
    "        return len(self.__queue)\n",
    "\n",
    "    def Enqueue(self,item):\n",
    "        self.__queue.append(item)\n",
    "        print(self.__queue)\n",
    "\n",
    "    def dequeue(self):\n",
    "        print(self.__queue)\n",
    "        return self.__queue.pop(0)\n",
    "\n",
    "    def peek(self):\n",
    "\n",
    "        if len(self.__queue) ==0:\n",
    "\n",
    "            raise Exception('Empty Queue')\n",
    "        else:\n",
    "            return self.__queue[0]\n",
    "q=Queue()\n"
   ]
  },
  {
   "cell_type": "code",
   "execution_count": 5,
   "id": "93700cc7",
   "metadata": {},
   "outputs": [
    {
     "ename": "SyntaxError",
     "evalue": "incomplete input (1010495602.py, line 34)",
     "output_type": "error",
     "traceback": [
      "\u001b[1;36m  Cell \u001b[1;32mIn[5], line 34\u001b[1;36m\u001b[0m\n\u001b[1;33m    print(data\u001b[0m\n\u001b[1;37m              ^\u001b[0m\n\u001b[1;31mSyntaxError\u001b[0m\u001b[1;31m:\u001b[0m incomplete input\n"
     ]
    }
   ],
   "source": [
    "data=[]\n",
    "n=int(input('Enter # of elements to be inserted:\\t'))\n",
    "\n",
    " \n",
    "\n",
    "for i in range(0,n):\n",
    "    x=int(input('Enter the Element %d:'%(i+1)))\n",
    "    data.append(x)\n",
    "\n",
    "e=int(input('Enter the value to be searched: \\t'))\n",
    "\n",
    " \n",
    "\n",
    "pos=0\n",
    "\n",
    " \n",
    "\n",
    "found=False\n",
    "\n",
    " \n",
    "\n",
    "while pos <n and not found:\n",
    "    if data[pos]==e:\n",
    "        found=True\n",
    "    else:\n",
    "        pos+=1\n",
    "\n",
    "if found:\n",
    "    print('Element %d Found at Position %d'%(e,pos+1))\n",
    "\n",
    "else:\n",
    "    print('Element %d not found in the list'%e)\n",
    "\n",
    "print(data"
   ]
  },
  {
   "cell_type": "code",
   "execution_count": 6,
   "id": "833f6501",
   "metadata": {},
   "outputs": [
    {
     "name": "stdout",
     "output_type": "stream",
     "text": [
      "Smallest element in the list: 3\n",
      "Inserted 6\n",
      "Elements in reverse order:\n",
      "6 10 3 8 3 5 \n"
     ]
    }
   ],
   "source": [
    "#6.single linked list\n",
    "\n",
    "\n",
    "class Node:\n",
    "    def __init__(self, data):\n",
    "        self.data = data\n",
    "        self.next = None\n",
    "\n",
    "class LinkedList:\n",
    "    def __init__(self):\n",
    "        self.head = None\n",
    "\n",
    "    def is_empty(self):\n",
    "        return self.head is None\n",
    "\n",
    "    def insert(self, data):\n",
    "        new_node = Node(data)\n",
    "        if self.is_empty():\n",
    "            self.head = new_node\n",
    "        else:\n",
    "            current = self.head\n",
    "            while current.next:\n",
    "                current = current.next\n",
    "            current.next = new_node\n",
    "\n",
    "    def find_smallest(self):\n",
    "        if self.is_empty():\n",
    "            return None\n",
    "        current = self.head\n",
    "        smallest = current.data\n",
    "        while current:\n",
    "            if current.data < smallest:\n",
    "                smallest = current.data\n",
    "            current = current.next\n",
    "        return smallest\n",
    "\n",
    "    def insert_if_not_duplicate(self, data):\n",
    "        if self.is_empty():\n",
    "            self.head = Node(data)\n",
    "            return True\n",
    "\n",
    "        current = self.head\n",
    "        while current:\n",
    "            if current.data == data:\n",
    "                return False\n",
    "            if current.next is None:\n",
    "                current.next = Node(data)\n",
    "                return True\n",
    "            current = current.next\n",
    "\n",
    "    def display_reverse(self):\n",
    "        def _display_reverse(node):\n",
    "            if node:\n",
    "                _display_reverse(node.next)\n",
    "                print(node.data, end=\" \")\n",
    "\n",
    "        _display_reverse(self.head)\n",
    "        print()\n",
    "\n",
    "# Create a linked list\n",
    "linked_list = LinkedList()\n",
    "\n",
    "# Insert\n",
    "linked_list.insert(5)\n",
    "linked_list.insert(3)\n",
    "linked_list.insert(8)\n",
    "linked_list.insert(3) \n",
    "linked_list.insert(10)\n",
    "\n",
    "#  the smallest element\n",
    "smallest_element = linked_list.find_smallest()\n",
    "print(f\"Smallest element in the list: {smallest_element}\")\n",
    "\n",
    "# Insert an element if it's not a duplicate\n",
    "inserted = linked_list.insert_if_not_duplicate(6)\n",
    "if inserted:\n",
    "    print(\"Inserted 6\")\n",
    "else:\n",
    "    print(\"6 is a duplicate and was not inserted\")\n",
    "\n",
    "# in reverse order\n",
    "print(\"Elements in reverse order:\")\n",
    "linked_list.display_reverse()\n"
   ]
  },
  {
   "cell_type": "code",
   "execution_count": 9,
   "id": "c46fb137",
   "metadata": {},
   "outputs": [
    {
     "name": "stdout",
     "output_type": "stream",
     "text": [
      "Initial stack:\n",
      "deque(['harini', 'worst', 'girl'])\n",
      "\n",
      "Elements popped from stack:\n",
      "girl\n",
      "worst\n",
      "\n",
      "Stack after elements are popped:\n",
      "deque(['harini'])\n"
     ]
    }
   ],
   "source": [
    "#7.stack\n",
    "\n",
    "from collections import deque\n",
    " \n",
    "stack = deque()\n",
    " \n",
    "# append() function to push\n",
    "\n",
    "stack.append('harini')\n",
    "stack.append('worst')\n",
    "stack.append('girl')\n",
    " \n",
    "print('Initial stack:')\n",
    "print(stack)\n",
    " \n",
    "                                     # pop() function to pop\n",
    "\n",
    "                                               # LIFO order\n",
    "print('\\nElements popped from stack:')\n",
    "print(stack.pop())\n",
    "print(stack.pop())\n",
    " \n",
    "print('\\nStack after elements are popped:')\n",
    "print(stack)\n",
    " "
   ]
  },
  {
   "cell_type": "code",
   "execution_count": 13,
   "id": "8868c10e",
   "metadata": {},
   "outputs": [
    {
     "name": "stdout",
     "output_type": "stream",
     "text": [
      "Stack elements:\n",
      "90\n",
      "39\n",
      "60\n",
      "Popped item: 90\n",
      "Stack elements after popping:\n",
      "39\n",
      "60\n"
     ]
    }
   ],
   "source": [
    "#7.stack \n",
    "\n",
    "class Stack:\n",
    "    def __init__(self):\n",
    "        self.items = []\n",
    "\n",
    "    def is_empty(self):\n",
    "        return len(self.items) == 0\n",
    "\n",
    "    def push(self, item):\n",
    "        self.items.append(item)\n",
    "\n",
    "    def pop(self):\n",
    "        if not self.is_empty():\n",
    "            return self.items.pop()\n",
    "        else:\n",
    "            return None  # Stack is empty\n",
    "\n",
    "    def display(self):\n",
    "        if not self.is_empty():\n",
    "            for item in reversed(self.items):\n",
    "                print(item)\n",
    "        else:\n",
    "            print(\"Stack is empty\")\n",
    "\n",
    "# Create an empty stack\n",
    "stack = Stack()\n",
    "\n",
    "# Push elements onto the stack\n",
    "stack.push(60)\n",
    "stack.push(39)\n",
    "stack.push(90)\n",
    "\n",
    "# Display the stack\n",
    "print(\"Stack elements:\")\n",
    "stack.display()\n",
    "\n",
    "# Pop elements from the stack\n",
    "popped_item = stack.pop()\n",
    "if popped_item is not None:\n",
    "    print(f\"Popped item: {popped_item}\")\n",
    "else:\n",
    "    print(\"Stack is empty\")\n",
    "\n",
    "# Display the stack after popping\n",
    "print(\"Stack elements after popping:\")\n",
    "stack.display()\n"
   ]
  },
  {
   "cell_type": "code",
   "execution_count": 14,
   "id": "ab6190b0",
   "metadata": {},
   "outputs": [
    {
     "name": "stdout",
     "output_type": "stream",
     "text": [
      "Queue elements:\n",
      "10\n",
      "20\n",
      "30\n",
      "Deleted item: 10\n",
      "Queue elements after deleting:\n",
      "20\n",
      "30\n"
     ]
    }
   ],
   "source": [
    "#8.queue\n",
    "class Queue:\n",
    "    def __init__(self):\n",
    "        self.items = []\n",
    "\n",
    "    def is_empty(self):\n",
    "        return len(self.items) == 0\n",
    "\n",
    "    def insert(self, item):\n",
    "        self.items.append(item)\n",
    "\n",
    "    def delete(self):\n",
    "        if not self.is_empty():\n",
    "            return self.items.pop(0)\n",
    "        else:\n",
    "            return None  # Queue is empty\n",
    "\n",
    "    def display(self):\n",
    "        if not self.is_empty():\n",
    "            for item in self.items:\n",
    "                print(item)\n",
    "        else:\n",
    "            print(\"Queue is empty\")\n",
    "\n",
    "# Create an empty queue\n",
    "queue = Queue()\n",
    "\n",
    "# Insert elements into the queue\n",
    "queue.insert(10)\n",
    "queue.insert(20)\n",
    "queue.insert(30)\n",
    "\n",
    "# Display the queue\n",
    "print(\"Queue elements:\")\n",
    "queue.display()\n",
    "\n",
    "# Delete elements from the queue\n",
    "deleted_item = queue.delete()\n",
    "if deleted_item is not None:\n",
    "    print(f\"Deleted item: {deleted_item}\")\n",
    "else:\n",
    "    print(\"Queue is empty\")\n",
    "\n",
    "# Display the queue after deleting an element\n",
    "print(\"Queue elements after deleting:\")\n",
    "queue.display()\n"
   ]
  },
  {
   "cell_type": "code",
   "execution_count": 16,
   "id": "9b82ac4a",
   "metadata": {},
   "outputs": [
    {
     "name": "stdout",
     "output_type": "stream",
     "text": [
      "Postfix expression for 'A/BC-DE-FO': ABC/DE-FO-\n",
      "Postfix expression for 'b(B^2-4*A*C)1/2(100)': bB24A*C*-12100/\n"
     ]
    }
   ],
   "source": [
    "#9.infix to postfix\n",
    "\n",
    "def infix_to_postfix(expression):\n",
    "    def precedence(operator):\n",
    "        if operator in '*/':\n",
    "            return 2\n",
    "        elif operator in '+-':\n",
    "            return 1\n",
    "        return 0\n",
    "\n",
    "    operator_stack = []\n",
    "    postfix_expression = []\n",
    "    operators = \"+-*/\"\n",
    "\n",
    "    for token in expression:\n",
    "        if token.isalnum():\n",
    "            postfix_expression.append(token)\n",
    "        elif token == '(':\n",
    "            operator_stack.append(token)\n",
    "        elif token == ')':\n",
    "            while operator_stack and operator_stack[-1] != '(':\n",
    "                postfix_expression.append(operator_stack.pop())\n",
    "            if operator_stack and operator_stack[-1] == '(':\n",
    "                operator_stack.pop()\n",
    "        elif token in operators:\n",
    "            while operator_stack and operator_stack[-1] in operators and precedence(operator_stack[-1]) >= precedence(token):\n",
    "                postfix_expression.append(operator_stack.pop())\n",
    "            operator_stack.append(token)\n",
    "\n",
    "    while operator_stack:\n",
    "        postfix_expression.append(operator_stack.pop())\n",
    "\n",
    "    return ''.join(postfix_expression)\n",
    "\n",
    "# Example 1: A/BC-DE-FO\n",
    "expression1 = \"A/BC-DE-FO\"\n",
    "postfix1 = infix_to_postfix(expression1)\n",
    "print(f\"Postfix expression for '{expression1}': {postfix1}\")\n",
    "\n",
    "# Example 2: b (B^2-4*A*C) 1/2(100)\n",
    "expression2 = \"b(B^2-4*A*C)1/2(100)\"\n",
    "postfix2 = infix_to_postfix(expression2)\n",
    "print(f\"Postfix expression for '{expression2}': {postfix2}\")\n"
   ]
  },
  {
   "cell_type": "code",
   "execution_count": 17,
   "id": "835c256f",
   "metadata": {},
   "outputs": [],
   "source": [
    "#1.linear search & following operations\n",
    "\n",
    "input_list = [10, 20, 30, 40, 50, 60, 70]\n",
    "\n"
   ]
  },
  {
   "cell_type": "code",
   "execution_count": 18,
   "id": "3fae49a2",
   "metadata": {},
   "outputs": [],
   "source": [
    "#boolean found to false\n",
    "\n",
    "found = False\n",
    "\n"
   ]
  },
  {
   "cell_type": "code",
   "execution_count": 23,
   "id": "34bf985d",
   "metadata": {},
   "outputs": [
    {
     "name": "stdout",
     "output_type": "stream",
     "text": [
      "Enter the item to search: 30\n",
      "The item 30 is found at position 2.\n"
     ]
    }
   ],
   "source": [
    "#initiliaze\n",
    "\n",
    "match_item = int(input(\"Enter the item to search: \"))\n",
    "\n",
    "# Perform the linear search\n",
    "for index, value in enumerate(input_list):\n",
    "    if value == match_item:\n",
    "        found = True\n",
    "        position = index\n",
    "        break\n",
    "\n",
    "# Check if the item is found or not\n",
    "if found:\n",
    "    print(f\"The item {match_item} is found at position {position}.\")\n",
    "else:\n",
    "    print(f\"The item {match_item} is not found in the list.\")\n",
    "\n",
    "\n",
    "\n",
    "\n",
    "\n",
    "\n",
    "\n"
   ]
  },
  {
   "cell_type": "code",
   "execution_count": 24,
   "id": "8a84b622",
   "metadata": {},
   "outputs": [],
   "source": [
    "#binary search\n",
    "\n",
    "def binary_search(arr, target):\n",
    "    left = 0\n",
    "    right = len(arr) - 1\n",
    "\n",
    "    while left <= right:\n",
    "        mid = (left + right) // 2\n",
    "\n",
    "        if arr[mid] == target:\n",
    "            return mid\n",
    "        elif arr[mid] < target:\n",
    "            left = mid + 1\n",
    "        else:\n",
    "            right = mid - 1\n",
    "\n",
    "    return -1  # Element not found\n",
    "\n"
   ]
  },
  {
   "cell_type": "code",
   "execution_count": 25,
   "id": "c884bdf7",
   "metadata": {},
   "outputs": [
    {
     "name": "stdout",
     "output_type": "stream",
     "text": [
      "Enter the number of input values: 3\n"
     ]
    }
   ],
   "source": [
    "num_inputs = int(input(\"Enter the number of input values: \"))\n"
   ]
  },
  {
   "cell_type": "code",
   "execution_count": 26,
   "id": "156de472",
   "metadata": {},
   "outputs": [
    {
     "name": "stdout",
     "output_type": "stream",
     "text": [
      "Enter input value 1: 3\n",
      "Enter input value 2: 5\n",
      "Enter input value 3: 8\n"
     ]
    }
   ],
   "source": [
    "# Step 2: Store the inputs individually in a list\n",
    "input_list = []\n",
    "for i in range(num_inputs):\n",
    "    value = int(input(f\"Enter input value {i + 1}: \"))\n",
    "    input_list.append(value)\n"
   ]
  },
  {
   "cell_type": "code",
   "execution_count": 27,
   "id": "fe77fb7e",
   "metadata": {},
   "outputs": [],
   "source": [
    "# Step 3: Sort the list\n",
    "input_list.sort()\n"
   ]
  },
  {
   "cell_type": "code",
   "execution_count": 29,
   "id": "16236844",
   "metadata": {},
   "outputs": [
    {
     "name": "stdout",
     "output_type": "stream",
     "text": [
      "Enter the target value to search: 4\n"
     ]
    }
   ],
   "source": [
    " #Step 4: Enter the target value to search\n",
    "target = int(input(\"Enter the target value to search: \"))\n",
    "\n"
   ]
  },
  {
   "cell_type": "code",
   "execution_count": 30,
   "id": "b2ecc81a",
   "metadata": {},
   "outputs": [
    {
     "name": "stdout",
     "output_type": "stream",
     "text": [
      "The target value 4 is not found in the list.\n"
     ]
    }
   ],
   "source": [
    "# Step 5: Perform binary search\n",
    "result = binary_search(input_list, target)\n",
    "\n",
    "# Step 6: Print the result along with the position of the element\n",
    "if result != -1:\n",
    "    print(f\"The target value {target} is found at position {result}.\")\n",
    "else:\n",
    "    print(f\"The target value {target} is not found in the list.\")\n"
   ]
  },
  {
   "cell_type": "code",
   "execution_count": null,
   "id": "0f41b04b",
   "metadata": {},
   "outputs": [],
   "source": []
  },
  {
   "cell_type": "code",
   "execution_count": null,
   "id": "e277638d",
   "metadata": {},
   "outputs": [],
   "source": []
  },
  {
   "cell_type": "code",
   "execution_count": null,
   "id": "538ea622",
   "metadata": {},
   "outputs": [],
   "source": []
  }
 ],
 "metadata": {
  "kernelspec": {
   "display_name": "Python 3 (ipykernel)",
   "language": "python",
   "name": "python3"
  },
  "language_info": {
   "codemirror_mode": {
    "name": "ipython",
    "version": 3
   },
   "file_extension": ".py",
   "mimetype": "text/x-python",
   "name": "python",
   "nbconvert_exporter": "python",
   "pygments_lexer": "ipython3",
   "version": "3.11.4"
  }
 },
 "nbformat": 4,
 "nbformat_minor": 5
}
