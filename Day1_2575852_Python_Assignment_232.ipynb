{
 "cells": [
  {
   "cell_type": "markdown",
   "id": "273c4a56",
   "metadata": {},
   "source": [
    "# 1.manipu mullate using list:\n",
    "    a)to add new elements to end\n",
    "    b) to reverse elements\n",
    "    c) to display the same lits of elements multiple times\n",
    "    d) to  concatenate two list\n",
    "    e)to sort elements in list in ascending order.\n",
    "    \n",
    "    \n",
    "    "
   ]
  },
  {
   "cell_type": "code",
   "execution_count": 85,
   "id": "be7d4d30",
   "metadata": {},
   "outputs": [
    {
     "data": {
      "text/plain": [
       "['1', '3', '5', '7', '9']"
      ]
     },
     "execution_count": 85,
     "metadata": {},
     "output_type": "execute_result"
    }
   ],
   "source": [
    " new =   [ '1','3','5','7','9']            #a)to add new elements to end\n",
    " new\n",
    " "
   ]
  },
  {
   "cell_type": "code",
   "execution_count": 86,
   "id": "a625060a",
   "metadata": {},
   "outputs": [
    {
     "data": {
      "text/plain": [
       "['1', '3', '5', '7', '9', '0']"
      ]
     },
     "execution_count": 86,
     "metadata": {},
     "output_type": "execute_result"
    }
   ],
   "source": [
    "new.append('0')                          #a)to add new elements to end\n",
    "new"
   ]
  },
  {
   "cell_type": "code",
   "execution_count": 87,
   "id": "85ff88e3",
   "metadata": {},
   "outputs": [
    {
     "data": {
      "text/plain": [
       "['1', '3', '5', '7', '9', '0']"
      ]
     },
     "execution_count": 87,
     "metadata": {},
     "output_type": "execute_result"
    }
   ],
   "source": [
    "new.reverse   #b) to reverse elements\n",
    "new"
   ]
  },
  {
   "cell_type": "code",
   "execution_count": 88,
   "id": "d0c0ca9c",
   "metadata": {},
   "outputs": [
    {
     "ename": "SyntaxError",
     "evalue": "invalid syntax (1295972602.py, line 1)",
     "output_type": "error",
     "traceback": [
      "\u001b[1;36m  Cell \u001b[1;32mIn[88], line 1\u001b[1;36m\u001b[0m\n\u001b[1;33m    new.reverse(:-1)\u001b[0m\n\u001b[1;37m                ^\u001b[0m\n\u001b[1;31mSyntaxError\u001b[0m\u001b[1;31m:\u001b[0m invalid syntax\n"
     ]
    }
   ],
   "source": [
    "new.reverse(:-1)\n",
    "new"
   ]
  },
  {
   "cell_type": "code",
   "execution_count": null,
   "id": "bc88aa0a",
   "metadata": {},
   "outputs": [],
   "source": [
    "print(new)"
   ]
  },
  {
   "cell_type": "code",
   "execution_count": null,
   "id": "c9b0f422",
   "metadata": {},
   "outputs": [],
   "source": [
    "new.reverse()\n",
    "new"
   ]
  },
  {
   "cell_type": "markdown",
   "id": "c3dc8c5a",
   "metadata": {},
   "source": [
    " new = ['1','3','5','7'] * 30\n",
    "new       # c) to display the same lits of elements multiple times"
   ]
  },
  {
   "cell_type": "code",
   "execution_count": null,
   "id": "0af05c25",
   "metadata": {},
   "outputs": [],
   "source": [
    "new1 = [3,8,9]\n",
    "new2 = [2,4,6]\n",
    "new  = new1+new2\n",
    "print(new)    #to concatenate two list"
   ]
  },
  {
   "cell_type": "code",
   "execution_count": null,
   "id": "693fd5b5",
   "metadata": {},
   "outputs": [],
   "source": [
    "new4 = sorted(new)\n",
    "print(new4)     #to sort elements in list in ascending order."
   ]
  },
  {
   "cell_type": "markdown",
   "id": "adb09244",
   "metadata": {},
   "source": [
    "# 2.python program for the tuples:\n",
    "    . manipulate using tuples\n",
    "    . to add new elements to the end of the tuples\n",
    "    . to reverse elements \n",
    "    . to display the elements of same tuple multiple times\n",
    "    . to concatenate two tuples\n",
    "    . to sort the elements in list in ascending order\n",
    "    \n",
    "    "
   ]
  },
  {
   "cell_type": "code",
   "execution_count": null,
   "id": "e9700f6a",
   "metadata": {},
   "outputs": [],
   "source": [
    "tuple = ('200','100','5','0','3','6','90')\n",
    "tuple\n",
    "\n",
    "          #manipulate using tuples"
   ]
  },
  {
   "cell_type": "code",
   "execution_count": null,
   "id": "9e5c577d",
   "metadata": {},
   "outputs": [],
   "source": [
    "print(tuple.count(3))"
   ]
  },
  {
   "cell_type": "code",
   "execution_count": null,
   "id": "e57503f5",
   "metadata": {},
   "outputs": [],
   "source": [
    "tuple1 = ( 7,5,9,1,3)\n",
    "print(tuple1.index(9))"
   ]
  },
  {
   "cell_type": "code",
   "execution_count": null,
   "id": "0cbdd36d",
   "metadata": {},
   "outputs": [],
   "source": [
    "print(len(tuple1))"
   ]
  },
  {
   "cell_type": "code",
   "execution_count": null,
   "id": "47208f7e",
   "metadata": {},
   "outputs": [],
   "source": [
    "print(min(tuple1))\n",
    "print(max(tuple1))"
   ]
  },
  {
   "cell_type": "code",
   "execution_count": null,
   "id": "fa912622",
   "metadata": {},
   "outputs": [],
   "source": [
    "tuple1 = tuple+(2,4)\n",
    "tuple1  #to add new elements to the end of the tuples"
   ]
  },
  {
   "cell_type": "code",
   "execution_count": null,
   "id": "8f52e040",
   "metadata": {},
   "outputs": [],
   "source": [
    " tuple1  #. to reverse elements \n"
   ]
  },
  {
   "cell_type": "code",
   "execution_count": null,
   "id": "ed2bee96",
   "metadata": {},
   "outputs": [],
   "source": [
    "print( 'after :',tuple1[::-1])"
   ]
  },
  {
   "cell_type": "code",
   "execution_count": null,
   "id": "f35c8124",
   "metadata": {},
   "outputs": [],
   "source": [
    "print('reverse :' ,tuple1[3::-1])"
   ]
  },
  {
   "cell_type": "code",
   "execution_count": null,
   "id": "48783845",
   "metadata": {},
   "outputs": [],
   "source": [
    "tuple2 = tuple1 * 7\n",
    "tuple2             #to display the elements of same tuple multiple times"
   ]
  },
  {
   "cell_type": "code",
   "execution_count": null,
   "id": "b46b1741",
   "metadata": {},
   "outputs": [],
   "source": [
    "tuple2 = tuple+tuple1\n",
    "tuple2   #to concatenate two tuples"
   ]
  },
  {
   "cell_type": "code",
   "execution_count": null,
   "id": "fe8767f0",
   "metadata": {},
   "outputs": [],
   "source": [
    "tuple2 = (30,5,90,200,4,2)\n",
    "sorted_tuple2 = sorted(tuple2)\n",
    "print(sorted_tuple2)   #to sort the elements in list in ascending order"
   ]
  },
  {
   "cell_type": "markdown",
   "id": "5b1e2847",
   "metadata": {},
   "source": [
    "# 3.to implement using list:\n",
    "    a.create a list with integers(min10 number)\n",
    "    b.how to display the lastnumber in the list\n",
    "    c.command for displaying the values from list[0:4]\n",
    "    d.command for display the values from list[2:]\n",
    "    e.command for displaying the values from list[:6]\n",
    "    \n",
    "    "
   ]
  },
  {
   "cell_type": "code",
   "execution_count": null,
   "id": "9ed73aae",
   "metadata": {},
   "outputs": [],
   "source": [
    "n = 10\n",
    "output = []\n",
    "\n",
    "for i in range(1,n+1):\n",
    "    output.append(i)\n",
    "    \n",
    "print(output)#a.create a list with integers(min10 number)\n"
   ]
  },
  {
   "cell_type": "code",
   "execution_count": null,
   "id": "65db23c5",
   "metadata": {},
   "outputs": [],
   "source": [
    "list = [1,2,3,4,5,6,7,8,9,10]\n",
    "\n",
    "print(list[-1])\n",
    "    \n",
    "    \n",
    "                                                                        #b.how to display the lastnumber in the list\n"
   ]
  },
  {
   "cell_type": "code",
   "execution_count": null,
   "id": "839b11f0",
   "metadata": {},
   "outputs": [],
   "source": [
    "print(list[0:4]) \n",
    "list   #command for displaying the values from list[0:4]"
   ]
  },
  {
   "cell_type": "code",
   "execution_count": null,
   "id": "6d502b3c",
   "metadata": {},
   "outputs": [],
   "source": [
    "print(list[2:])   # d.command for display the values from list[2:]\n",
    "print(list[:6])               #e.command for displaying the values from list[:6]\n"
   ]
  },
  {
   "cell_type": "markdown",
   "id": "45755892",
   "metadata": {},
   "source": [
    "# 4.program: tuple5 = (10,50,20,40,30)\n",
    "    .to display the elements 10 and 50 from tuple5\n",
    "    . display the length of tuple5\n",
    "    . find minimum element of tuple5\n",
    "    . to add all the elements in tuple5\n",
    "    . display the same tuple5 multiple times\n",
    "    "
   ]
  },
  {
   "cell_type": "code",
   "execution_count": null,
   "id": "4a5620ea",
   "metadata": {},
   "outputs": [],
   "source": [
    "\n",
    "tuple5 = ('10','50','20','40','30')\n",
    "\n",
    "print(tuple5) #to display the elements 10 and 50 from tuple5\n",
    "                                                           #. display the length of tuple5"
   ]
  },
  {
   "cell_type": "code",
   "execution_count": null,
   "id": "ca7ea590",
   "metadata": {},
   "outputs": [],
   "source": [
    " tuple5.index('10')"
   ]
  },
  {
   "cell_type": "code",
   "execution_count": null,
   "id": "95b51fc7",
   "metadata": {},
   "outputs": [],
   "source": [
    "tuple5.index('50')"
   ]
  },
  {
   "cell_type": "code",
   "execution_count": null,
   "id": "18244be9",
   "metadata": {},
   "outputs": [],
   "source": [
    "len(tuple5)                                                           #. display the length of tuple5"
   ]
  },
  {
   "cell_type": "code",
   "execution_count": null,
   "id": "37d41acd",
   "metadata": {},
   "outputs": [],
   "source": [
    "(min(tuple5))                                          #find minimum element of tuple5print(min(tuple1))                                  #. to add all the elements in tuple5\n",
    "                               #. display the same tuple5 multiple times\n",
    "    "
   ]
  },
  {
   "cell_type": "code",
   "execution_count": null,
   "id": "02c293a1",
   "metadata": {},
   "outputs": [],
   "source": [
    "tuple5 * n"
   ]
  },
  {
   "cell_type": "code",
   "execution_count": null,
   "id": "9603eaf0",
   "metadata": {},
   "outputs": [],
   "source": [
    "tuple5 = ('30','10',50,20,40)\n",
    "new = (6,)\n",
    "tuple5 += new \n",
    "print"
   ]
  },
  {
   "cell_type": "markdown",
   "id": "8eb34df3",
   "metadata": {},
   "source": [
    "# 5.python program in string:\n",
    "    . to calculate the length of string\n",
    "    . to reverse words in a string\n",
    "    . to display the same string multiple times\n",
    "    . to concatenate two strings\n",
    "    . str1=\"south india\", using string slicing to display \"india\"\n",
    "    \n",
    "    "
   ]
  },
  {
   "cell_type": "code",
   "execution_count": null,
   "id": "fae449b1",
   "metadata": {},
   "outputs": [],
   "source": [
    "#i)To calculate the length of the string\n",
    "str=input(\"Enter String\")\n",
    "print(len(str))\n"
   ]
  },
  {
   "cell_type": "code",
   "execution_count": null,
   "id": "2ed61834",
   "metadata": {},
   "outputs": [],
   "source": [
    "str = \"geeks\"\n",
    "print(len(str))"
   ]
  },
  {
   "cell_type": "code",
   "execution_count": null,
   "id": "4e05696b",
   "metadata": {},
   "outputs": [],
   "source": [
    "g\n"
   ]
  },
  {
   "cell_type": "code",
   "execution_count": 89,
   "id": "b81a1ec4",
   "metadata": {},
   "outputs": [
    {
     "ename": "TypeError",
     "evalue": "'int' object is not callable",
     "output_type": "error",
     "traceback": [
      "\u001b[1;31m---------------------------------------------------------------------------\u001b[0m",
      "\u001b[1;31mTypeError\u001b[0m                                 Traceback (most recent call last)",
      "Cell \u001b[1;32mIn[89], line 2\u001b[0m\n\u001b[0;32m      1\u001b[0m \u001b[38;5;28mstr\u001b[39m \u001b[38;5;241m=\u001b[39m \u001b[38;5;124m\"\u001b[39m\u001b[38;5;124mgod to save\u001b[39m\u001b[38;5;124m\"\u001b[39m     \u001b[38;5;66;03m# to calculate the length of string\u001b[39;00m\n\u001b[1;32m----> 2\u001b[0m \u001b[38;5;28mprint\u001b[39m(\u001b[38;5;28mlen\u001b[39m(\u001b[38;5;28mstr\u001b[39m))\n",
      "\u001b[1;31mTypeError\u001b[0m: 'int' object is not callable"
     ]
    }
   ],
   "source": [
    "str = \"god to save\"     # to calculate the length of string\n",
    "print(len(str))"
   ]
  },
  {
   "cell_type": "code",
   "execution_count": 1,
   "id": "7fcc2d46",
   "metadata": {},
   "outputs": [
    {
     "ename": "KeyboardInterrupt",
     "evalue": "Interrupted by user",
     "output_type": "error",
     "traceback": [
      "\u001b[1;31m---------------------------------------------------------------------------\u001b[0m",
      "\u001b[1;31mKeyboardInterrupt\u001b[0m                         Traceback (most recent call last)",
      "Cell \u001b[1;32mIn[1], line 2\u001b[0m\n\u001b[0;32m      1\u001b[0m \u001b[38;5;66;03m#i)To calculate the length of the string\u001b[39;00m\n\u001b[1;32m----> 2\u001b[0m \u001b[38;5;28mstr\u001b[39m\u001b[38;5;241m=\u001b[39m\u001b[38;5;28minput\u001b[39m(\u001b[38;5;124m\"\u001b[39m\u001b[38;5;124mEnter String\u001b[39m\u001b[38;5;124m\"\u001b[39m)\n\u001b[0;32m      3\u001b[0m \u001b[38;5;28mprint\u001b[39m(\u001b[38;5;28mlen\u001b[39m(\u001b[38;5;28mstr\u001b[39m))\n",
      "File \u001b[1;32m~\\anaconda3\\Lib\\site-packages\\ipykernel\\kernelbase.py:1175\u001b[0m, in \u001b[0;36mKernel.raw_input\u001b[1;34m(self, prompt)\u001b[0m\n\u001b[0;32m   1171\u001b[0m \u001b[38;5;28;01mif\u001b[39;00m \u001b[38;5;129;01mnot\u001b[39;00m \u001b[38;5;28mself\u001b[39m\u001b[38;5;241m.\u001b[39m_allow_stdin:\n\u001b[0;32m   1172\u001b[0m     \u001b[38;5;28;01mraise\u001b[39;00m StdinNotImplementedError(\n\u001b[0;32m   1173\u001b[0m         \u001b[38;5;124m\"\u001b[39m\u001b[38;5;124mraw_input was called, but this frontend does not support input requests.\u001b[39m\u001b[38;5;124m\"\u001b[39m\n\u001b[0;32m   1174\u001b[0m     )\n\u001b[1;32m-> 1175\u001b[0m \u001b[38;5;28;01mreturn\u001b[39;00m \u001b[38;5;28mself\u001b[39m\u001b[38;5;241m.\u001b[39m_input_request(\n\u001b[0;32m   1176\u001b[0m     \u001b[38;5;28mstr\u001b[39m(prompt),\n\u001b[0;32m   1177\u001b[0m     \u001b[38;5;28mself\u001b[39m\u001b[38;5;241m.\u001b[39m_parent_ident[\u001b[38;5;124m\"\u001b[39m\u001b[38;5;124mshell\u001b[39m\u001b[38;5;124m\"\u001b[39m],\n\u001b[0;32m   1178\u001b[0m     \u001b[38;5;28mself\u001b[39m\u001b[38;5;241m.\u001b[39mget_parent(\u001b[38;5;124m\"\u001b[39m\u001b[38;5;124mshell\u001b[39m\u001b[38;5;124m\"\u001b[39m),\n\u001b[0;32m   1179\u001b[0m     password\u001b[38;5;241m=\u001b[39m\u001b[38;5;28;01mFalse\u001b[39;00m,\n\u001b[0;32m   1180\u001b[0m )\n",
      "File \u001b[1;32m~\\anaconda3\\Lib\\site-packages\\ipykernel\\kernelbase.py:1217\u001b[0m, in \u001b[0;36mKernel._input_request\u001b[1;34m(self, prompt, ident, parent, password)\u001b[0m\n\u001b[0;32m   1214\u001b[0m             \u001b[38;5;28;01mbreak\u001b[39;00m\n\u001b[0;32m   1215\u001b[0m \u001b[38;5;28;01mexcept\u001b[39;00m \u001b[38;5;167;01mKeyboardInterrupt\u001b[39;00m:\n\u001b[0;32m   1216\u001b[0m     \u001b[38;5;66;03m# re-raise KeyboardInterrupt, to truncate traceback\u001b[39;00m\n\u001b[1;32m-> 1217\u001b[0m     \u001b[38;5;28;01mraise\u001b[39;00m \u001b[38;5;167;01mKeyboardInterrupt\u001b[39;00m(\u001b[38;5;124m\"\u001b[39m\u001b[38;5;124mInterrupted by user\u001b[39m\u001b[38;5;124m\"\u001b[39m) \u001b[38;5;28;01mfrom\u001b[39;00m \u001b[38;5;28;01mNone\u001b[39;00m\n\u001b[0;32m   1218\u001b[0m \u001b[38;5;28;01mexcept\u001b[39;00m \u001b[38;5;167;01mException\u001b[39;00m:\n\u001b[0;32m   1219\u001b[0m     \u001b[38;5;28mself\u001b[39m\u001b[38;5;241m.\u001b[39mlog\u001b[38;5;241m.\u001b[39mwarning(\u001b[38;5;124m\"\u001b[39m\u001b[38;5;124mInvalid Message:\u001b[39m\u001b[38;5;124m\"\u001b[39m, exc_info\u001b[38;5;241m=\u001b[39m\u001b[38;5;28;01mTrue\u001b[39;00m)\n",
      "\u001b[1;31mKeyboardInterrupt\u001b[0m: Interrupted by user"
     ]
    },
    {
     "name": "stdout",
     "output_type": "stream",
     "text": [
      "Enter Stringfool\n"
     ]
    }
   ],
   "source": [
    "#i)To calculate the length of the string\n",
    "str=input(\"Enter String\")\n",
    "print(len(str))\n"
   ]
  },
  {
   "cell_type": "code",
   "execution_count": 2,
   "id": "32bb1379",
   "metadata": {},
   "outputs": [
    {
     "name": "stdout",
     "output_type": "stream",
     "text": [
      "Enter String:hello world\n",
      "dlrow olleh\n"
     ]
    }
   ],
   "source": [
    "#ii)To reverse words in a string\n",
    "str=input(\"Enter String:\")\n",
    "print(str[::-1])\n"
   ]
  },
  {
   "cell_type": "code",
   "execution_count": 4,
   "id": "4f35ca63",
   "metadata": {},
   "outputs": [
    {
     "data": {
      "text/plain": [
       "'Good afternoonGood afternoonGood afternoon'"
      ]
     },
     "execution_count": 4,
     "metadata": {},
     "output_type": "execute_result"
    }
   ],
   "source": [
    "#iii)To display same string multiple times\n",
    "str=\"Good afternoon\"\n",
    "s=str*3\n",
    "s\n"
   ]
  },
  {
   "cell_type": "code",
   "execution_count": 5,
   "id": "8323dbb9",
   "metadata": {},
   "outputs": [
    {
     "name": "stdout",
     "output_type": "stream",
     "text": [
      "heartly congralutions\n"
     ]
    }
   ],
   "source": [
    "#iv)To concatenate the strings\n",
    "s1=\"heartly\"\n",
    "s2=\"congralutions\"\n",
    "s3=s1+\" \"+s2\n",
    "print(s3)\n"
   ]
  },
  {
   "cell_type": "code",
   "execution_count": 6,
   "id": "5c1ced95",
   "metadata": {},
   "outputs": [
    {
     "name": "stdout",
     "output_type": "stream",
     "text": [
      "India\n"
     ]
    }
   ],
   "source": [
    "#v)Str1=\"South India\" using slicing display only \"India\"\n",
    "str1=\"South India\"\n",
    "print(str1[6::])\n"
   ]
  },
  {
   "cell_type": "markdown",
   "id": "d9f2d3f4",
   "metadata": {},
   "source": [
    "# 6.dictionary\n",
    " .create\n",
    " .accessing the dic\n",
    " .updating the dic using function\n",
    " .clear and delete\n",
    " "
   ]
  },
  {
   "cell_type": "code",
   "execution_count": 7,
   "id": "59cb47c5",
   "metadata": {},
   "outputs": [
    {
     "data": {
      "text/plain": [
       "{'sport': 'tennis', 'cartoon': 'ben tennyson', 'born': '2000'}"
      ]
     },
     "execution_count": 7,
     "metadata": {},
     "output_type": "execute_result"
    }
   ],
   "source": [
    "my_dic = {'sport': 'tennis','cartoon': 'ben tennyson','born': '2000'}\n",
    "my_dic"
   ]
  },
  {
   "cell_type": "code",
   "execution_count": 9,
   "id": "efd0494d",
   "metadata": {},
   "outputs": [
    {
     "data": {
      "text/plain": [
       "'ben tennyson'"
      ]
     },
     "execution_count": 9,
     "metadata": {},
     "output_type": "execute_result"
    }
   ],
   "source": [
    "my_dic.get('cartoon')"
   ]
  },
  {
   "cell_type": "code",
   "execution_count": 10,
   "id": "eee6048e",
   "metadata": {},
   "outputs": [
    {
     "data": {
      "text/plain": [
       "dict_keys(['sport', 'cartoon', 'born'])"
      ]
     },
     "execution_count": 10,
     "metadata": {},
     "output_type": "execute_result"
    }
   ],
   "source": [
    "my_dic.keys()"
   ]
  },
  {
   "cell_type": "code",
   "execution_count": 11,
   "id": "27fd35b9",
   "metadata": {},
   "outputs": [
    {
     "data": {
      "text/plain": [
       "dict_values(['tennis', 'ben tennyson', '2000'])"
      ]
     },
     "execution_count": 11,
     "metadata": {},
     "output_type": "execute_result"
    }
   ],
   "source": [
    "my_dic.values()"
   ]
  },
  {
   "cell_type": "code",
   "execution_count": 12,
   "id": "2114f575",
   "metadata": {},
   "outputs": [
    {
     "data": {
      "text/plain": [
       "dict_items([('sport', 'tennis'), ('cartoon', 'ben tennyson'), ('born', '2000')])"
      ]
     },
     "execution_count": 12,
     "metadata": {},
     "output_type": "execute_result"
    }
   ],
   "source": [
    "my_dic.items()"
   ]
  },
  {
   "cell_type": "code",
   "execution_count": 20,
   "id": "052a962a",
   "metadata": {},
   "outputs": [
    {
     "data": {
      "text/plain": [
       "{'sport': 'tennis', 'cartoon': 'ben tennyson', 'born': '2003'}"
      ]
     },
     "execution_count": 20,
     "metadata": {},
     "output_type": "execute_result"
    }
   ],
   "source": [
    "my_dic.update({'born':'2003'})\n",
    "my_dic"
   ]
  },
  {
   "cell_type": "code",
   "execution_count": 21,
   "id": "ee017b6d",
   "metadata": {},
   "outputs": [
    {
     "name": "stdout",
     "output_type": "stream",
     "text": [
      "{'sport': 'tennis', 'cartoon': 'ben tennyson'}\n"
     ]
    }
   ],
   "source": [
    "my_dic.pop('born')\n",
    "print(my_dic)"
   ]
  },
  {
   "cell_type": "code",
   "execution_count": 22,
   "id": "849ccb29",
   "metadata": {},
   "outputs": [
    {
     "name": "stdout",
     "output_type": "stream",
     "text": [
      "{'sport': 'tennis'}\n"
     ]
    }
   ],
   "source": [
    "my_dic.popitem()\n",
    "print(my_dic)"
   ]
  },
  {
   "cell_type": "code",
   "execution_count": 23,
   "id": "3be736d0",
   "metadata": {},
   "outputs": [
    {
     "name": "stdout",
     "output_type": "stream",
     "text": [
      "{}\n"
     ]
    }
   ],
   "source": [
    "my_dic.clear()\n",
    "print(my_dic)"
   ]
  },
  {
   "cell_type": "code",
   "execution_count": 27,
   "id": "05e54ec7",
   "metadata": {},
   "outputs": [
    {
     "ename": "NameError",
     "evalue": "name 'my_dic' is not defined",
     "output_type": "error",
     "traceback": [
      "\u001b[1;31m---------------------------------------------------------------------------\u001b[0m",
      "\u001b[1;31mNameError\u001b[0m                                 Traceback (most recent call last)",
      "Cell \u001b[1;32mIn[27], line 1\u001b[0m\n\u001b[1;32m----> 1\u001b[0m \u001b[38;5;28;01mdel\u001b[39;00m my_dic[\u001b[38;5;124m'\u001b[39m\u001b[38;5;124msport\u001b[39m\u001b[38;5;124m'\u001b[39m]\n\u001b[0;32m      2\u001b[0m \u001b[38;5;28mprint\u001b[39m(my_dic)\n",
      "\u001b[1;31mNameError\u001b[0m: name 'my_dic' is not defined"
     ]
    }
   ],
   "source": [
    "del my_dic['sport']\n",
    "print(my_dic)\n"
   ]
  },
  {
   "cell_type": "code",
   "execution_count": 32,
   "id": "eaa8ae0b",
   "metadata": {},
   "outputs": [
    {
     "name": "stdout",
     "output_type": "stream",
     "text": [
      "[30, 8, 20, 72]\n",
      "updated_list: [1, 30, 8, 20, 72]\n",
      "updated_list: [1, 30, 8, 6, 20, 72]\n"
     ]
    }
   ],
   "source": [
    "#print the insert the integers in any position\n",
    "\n",
    "\n",
    "\n",
    "list_number=[30,8,20,72]\n",
    "print(list_number)\n",
    "\n",
    "list_number.insert(0,1)\n",
    "print(\"updated_list:\",list_number)\n",
    "\n",
    "list_number.insert(3,6)\n",
    "print(\"updated_list:\",list_number)\n"
   ]
  },
  {
   "cell_type": "code",
   "execution_count": 34,
   "id": "970988a4",
   "metadata": {},
   "outputs": [
    {
     "name": "stdout",
     "output_type": "stream",
     "text": [
      "[93, 76, 24, 806, 117, 264]\n",
      "updated_list: [76, 24, 806, 117, 264]\n",
      "[93, 76, 24, 806, 117, 264]\n",
      "updated_list: [93, 76, 24, 806, 264]\n"
     ]
    }
   ],
   "source": [
    "#print the delete a element in index\n",
    "\n",
    "list_number=[93,76,24,806,117,264]\n",
    "print(list_number)\n",
    "\n",
    "list_number.pop(0)   #using pop\n",
    "print(\"updated_list:\",list_number)\n",
    "\n",
    "list_number=[93,76,24,806,117,264]\n",
    "print(list_number)\n",
    "\n",
    "del list_number[4]   #using del\n",
    "print(\"updated_list:\",list_number)\n"
   ]
  },
  {
   "cell_type": "code",
   "execution_count": 41,
   "id": "a3c65833",
   "metadata": {},
   "outputs": [
    {
     "name": "stdout",
     "output_type": "stream",
     "text": [
      "0\n",
      "9\n",
      "18\n",
      "27\n",
      "36\n",
      "45\n",
      "54\n",
      "63\n",
      "72\n",
      "81\n",
      "90\n",
      "99\n"
     ]
    }
   ],
   "source": [
    "#display the numbers from 1 to 100\n",
    "\n",
    "def display(count):\n",
    "    while count<=100:\n",
    "      print(count)\n",
    "      count=count+9;\n",
    "display(0)\n"
   ]
  },
  {
   "cell_type": "code",
   "execution_count": 54,
   "id": "67fdc9dc",
   "metadata": {},
   "outputs": [
    {
     "name": "stdout",
     "output_type": "stream",
     "text": [
      "54\n"
     ]
    }
   ],
   "source": [
    "#sum of all items in tuple\n",
    "\n",
    "\n",
    "\n",
    "\n",
    "my_tuple=(1,5,6,7,17,18)\n",
    "sum=0\n",
    "for i in my_tuple:    #using loop\n",
    "    sum+= i\n",
    "print(sum)\n"
   ]
  },
  {
   "cell_type": "code",
   "execution_count": 57,
   "id": "55057e32",
   "metadata": {},
   "outputs": [
    {
     "name": "stdout",
     "output_type": "stream",
     "text": [
      "Please enter a character A-Z:\n",
      "h\n",
      "h is present in the list\n"
     ]
    }
   ],
   "source": [
    " #CONTROL STRUCTURE 3.# search for string in  the list.\n",
    "\n",
    "l1 = ['A', 'B', 'C', 'D', 'a', 'h', 'f']\n",
    "s = input('Please enter a character A-Z:\\n')\n",
    "\n",
    "if s in l1:\n",
    "    print(f'{s} is present in the list')\n",
    "else:\n",
    "    print(f'{s} is not present in the list')\n"
   ]
  },
  {
   "cell_type": "code",
   "execution_count": 58,
   "id": "20ca1279",
   "metadata": {},
   "outputs": [
    {
     "name": "stdout",
     "output_type": "stream",
     "text": [
      "Original String :  The Foxtale is most promising brand in START-UP\n",
      "No. of Upper case characters :  9\n",
      "No. of Lower case Characters :  30\n"
     ]
    }
   ],
   "source": [
    "#CONTROL STRUCTURE # 4. function accepts the string and find no.of uppercase and no.of lowercase\n",
    "\n",
    "\n",
    "\n",
    "def string_test(s):\n",
    "    d={\"UPPER_CASE\":0, \"LOWER_CASE\":0}\n",
    "    for c in s:\n",
    "        if c.isupper():\n",
    "           d[\"UPPER_CASE\"]+=1\n",
    "        elif c.islower():\n",
    "           d[\"LOWER_CASE\"]+=1\n",
    "        else:\n",
    "           pass\n",
    "    print (\"Original String : \", s)\n",
    "    print (\"No. of Upper case characters : \", d[\"UPPER_CASE\"])\n",
    "    print (\"No. of Lower case Characters : \", d[\"LOWER_CASE\"])\n",
    "\n",
    "string_test('The Foxtale is most promising brand in START-UP')\n",
    "\n"
   ]
  },
  {
   "cell_type": "code",
   "execution_count": 63,
   "id": "a3a8ca9e",
   "metadata": {},
   "outputs": [
    {
     "name": "stdout",
     "output_type": "stream",
     "text": [
      "Number of even numbers : 13\n",
      "Number of odd numbers : 13\n"
     ]
    }
   ],
   "source": [
    "#CONTROL STRUCTURE # 5. display the number of odd & even between 12 and 37\n",
    "\n",
    "start, end = 12, 37\n",
    " \n",
    "# iterating each number in list\n",
    "#for num in range(start, end + 1):\n",
    "\n",
    "#numbers = (12,13,14,15,16,17,18,19,20,21,22,23,24,25,26,27,28,29,30,31,32,33,34,35,36,37)\n",
    "                                    \n",
    "count_odd = 0\n",
    "count_even = 0\n",
    "for x in range(start, end + 1):\n",
    "        if  x % 2:\n",
    "    \t     count_even+=1\n",
    "        else:\n",
    "             count_odd+=1\n",
    "print(\"Number of even numbers :\",count_even)\n",
    "print(\"Number of odd numbers :\",count_odd)"
   ]
  },
  {
   "cell_type": "code",
   "execution_count": 61,
   "id": "f1e7092d",
   "metadata": {},
   "outputs": [
    {
     "name": "stdout",
     "output_type": "stream",
     "text": [
      "P\n",
      "Py\n",
      "Pyt\n",
      "Pyth\n",
      "Pytho\n",
      "Python\n",
      "Enter no of rows:3\n",
      "* \n",
      "* * \n",
      "* * * \n"
     ]
    }
   ],
   "source": [
    "#CONTROl STRUCTURE 17.pattern\n",
    "\n",
    "word = \"Python\"\n",
    "x = \"\"\n",
    "for i in word:\n",
    "    x += i\n",
    "    print(x)\n",
    "n=int(input(\"Enter no of rows:\"))\n",
    "for i in range(0, n):\n",
    "    for j in range(0, i + 1):\n",
    "        print(\"*\", end=' ')\n",
    "    print(\"\\r\")\n"
   ]
  },
  {
   "cell_type": "code",
   "execution_count": 62,
   "id": "7b05983b",
   "metadata": {},
   "outputs": [
    {
     "name": "stdout",
     "output_type": "stream",
     "text": [
      "Enter no of rows:10\n",
      "                  *   \n",
      "                 *  *   \n",
      "                *  *  *   \n",
      "               *  *  *  *   \n",
      "              *  *  *  *  *   \n",
      "             *  *  *  *  *  *   \n",
      "            *  *  *  *  *  *  *   \n",
      "           *  *  *  *  *  *  *  *   \n",
      "          *  *  *  *  *  *  *  *  *   \n",
      "         *  *  *  *  *  *  *  *  *  *   \n",
      "Enter number:6\n",
      "      \n",
      "     1 \n",
      "    1 1 \n",
      "   1 2 1 \n",
      "  1 3 3 1 \n",
      " 1 4 6 4 1 \n",
      "1 5 10 10 5 1 \n"
     ]
    }
   ],
   "source": [
    "#CONTROL STRUCTURE 17.Pattern\n",
    "\n",
    "\n",
    "n=int(input(\"Enter no of rows:\"))\n",
    "m=(2 * n) - 2\n",
    "for i in range(0, n):\n",
    "    for j in range(0, m):\n",
    "        print(end=\" \")\n",
    "    m=m - 1\n",
    "    for j in range(0, i + 1):\n",
    "        print(\"* \", end=' ')\n",
    "    print(\" \")\n",
    "n=int(input(\"Enter number:\"))\n",
    "for i in range(n+1):\n",
    "    for j in range(n-i):\n",
    "        print(' ', end='')\n",
    "\n",
    "    a = 1\n",
    "    for j in range(1, i+1):\n",
    "        print(a, ' ', sep='', end='')\n",
    "        a = a * (i - j) // j\n",
    "    print()\n",
    "\n",
    " \n"
   ]
  },
  {
   "cell_type": "code",
   "execution_count": 64,
   "id": "8e7cfcf1",
   "metadata": {},
   "outputs": [
    {
     "name": "stdout",
     "output_type": "stream",
     "text": [
      "Enter the number of which the user wants to print the multiplication table: 4\n",
      "The Multiplication Table of:  4\n",
      "4 x 1 = 4\n",
      "4 x 2 = 8\n",
      "4 x 3 = 12\n",
      "4 x 4 = 16\n",
      "4 x 5 = 20\n",
      "4 x 6 = 24\n",
      "4 x 7 = 28\n",
      "4 x 8 = 32\n",
      "4 x 9 = 36\n",
      "4 x 10 = 40\n"
     ]
    }
   ],
   "source": [
    "#CONTROL STRUCTURE 6.create the number table for any number\n",
    "\n",
    "\n",
    "number = int(input (\"Enter the number of which the user wants to print the multiplication table: \"))      \n",
    "                                                              # We are using \"for loop\" to iterate the multiplication 10 times       \n",
    "print (\"The Multiplication Table of: \", number)    \n",
    "for count in range(1, 11):      \n",
    "   print (number, 'x', count, '=', number * count)    \n"
   ]
  },
  {
   "cell_type": "code",
   "execution_count": 67,
   "id": "31fca289",
   "metadata": {},
   "outputs": [
    {
     "ename": "KeyboardInterrupt",
     "evalue": "Interrupted by user",
     "output_type": "error",
     "traceback": [
      "\u001b[1;31m---------------------------------------------------------------------------\u001b[0m",
      "\u001b[1;31mKeyboardInterrupt\u001b[0m                         Traceback (most recent call last)",
      "Cell \u001b[1;32mIn[67], line 1\u001b[0m\n\u001b[1;32m----> 1\u001b[0m upto \u001b[38;5;241m=\u001b[39m \u001b[38;5;28mint\u001b[39m(\u001b[38;5;28minput\u001b[39m(\u001b[38;5;124m\"\u001b[39m\u001b[38;5;124mFind sum of prime numbers upto : \u001b[39m\u001b[38;5;124m\"\u001b[39m))\n\u001b[0;32m      3\u001b[0m \u001b[38;5;28msum\u001b[39m \u001b[38;5;241m=\u001b[39m \u001b[38;5;241m0\u001b[39m\n\u001b[0;32m      5\u001b[0m \u001b[38;5;28;01mfor\u001b[39;00m num \u001b[38;5;129;01min\u001b[39;00m \u001b[38;5;28mrange\u001b[39m(\u001b[38;5;241m3\u001b[39m, upto\u001b[38;5;241m+\u001b[39m\u001b[38;5;241m1\u001b[39m):\n",
      "File \u001b[1;32m~\\anaconda3\\Lib\\site-packages\\ipykernel\\kernelbase.py:1175\u001b[0m, in \u001b[0;36mKernel.raw_input\u001b[1;34m(self, prompt)\u001b[0m\n\u001b[0;32m   1171\u001b[0m \u001b[38;5;28;01mif\u001b[39;00m \u001b[38;5;129;01mnot\u001b[39;00m \u001b[38;5;28mself\u001b[39m\u001b[38;5;241m.\u001b[39m_allow_stdin:\n\u001b[0;32m   1172\u001b[0m     \u001b[38;5;28;01mraise\u001b[39;00m StdinNotImplementedError(\n\u001b[0;32m   1173\u001b[0m         \u001b[38;5;124m\"\u001b[39m\u001b[38;5;124mraw_input was called, but this frontend does not support input requests.\u001b[39m\u001b[38;5;124m\"\u001b[39m\n\u001b[0;32m   1174\u001b[0m     )\n\u001b[1;32m-> 1175\u001b[0m \u001b[38;5;28;01mreturn\u001b[39;00m \u001b[38;5;28mself\u001b[39m\u001b[38;5;241m.\u001b[39m_input_request(\n\u001b[0;32m   1176\u001b[0m     \u001b[38;5;28mstr\u001b[39m(prompt),\n\u001b[0;32m   1177\u001b[0m     \u001b[38;5;28mself\u001b[39m\u001b[38;5;241m.\u001b[39m_parent_ident[\u001b[38;5;124m\"\u001b[39m\u001b[38;5;124mshell\u001b[39m\u001b[38;5;124m\"\u001b[39m],\n\u001b[0;32m   1178\u001b[0m     \u001b[38;5;28mself\u001b[39m\u001b[38;5;241m.\u001b[39mget_parent(\u001b[38;5;124m\"\u001b[39m\u001b[38;5;124mshell\u001b[39m\u001b[38;5;124m\"\u001b[39m),\n\u001b[0;32m   1179\u001b[0m     password\u001b[38;5;241m=\u001b[39m\u001b[38;5;28;01mFalse\u001b[39;00m,\n\u001b[0;32m   1180\u001b[0m )\n",
      "File \u001b[1;32m~\\anaconda3\\Lib\\site-packages\\ipykernel\\kernelbase.py:1217\u001b[0m, in \u001b[0;36mKernel._input_request\u001b[1;34m(self, prompt, ident, parent, password)\u001b[0m\n\u001b[0;32m   1214\u001b[0m             \u001b[38;5;28;01mbreak\u001b[39;00m\n\u001b[0;32m   1215\u001b[0m \u001b[38;5;28;01mexcept\u001b[39;00m \u001b[38;5;167;01mKeyboardInterrupt\u001b[39;00m:\n\u001b[0;32m   1216\u001b[0m     \u001b[38;5;66;03m# re-raise KeyboardInterrupt, to truncate traceback\u001b[39;00m\n\u001b[1;32m-> 1217\u001b[0m     \u001b[38;5;28;01mraise\u001b[39;00m \u001b[38;5;167;01mKeyboardInterrupt\u001b[39;00m(\u001b[38;5;124m\"\u001b[39m\u001b[38;5;124mInterrupted by user\u001b[39m\u001b[38;5;124m\"\u001b[39m) \u001b[38;5;28;01mfrom\u001b[39;00m \u001b[38;5;28;01mNone\u001b[39;00m\n\u001b[0;32m   1218\u001b[0m \u001b[38;5;28;01mexcept\u001b[39;00m \u001b[38;5;167;01mException\u001b[39;00m:\n\u001b[0;32m   1219\u001b[0m     \u001b[38;5;28mself\u001b[39m\u001b[38;5;241m.\u001b[39mlog\u001b[38;5;241m.\u001b[39mwarning(\u001b[38;5;124m\"\u001b[39m\u001b[38;5;124mInvalid Message:\u001b[39m\u001b[38;5;124m\"\u001b[39m, exc_info\u001b[38;5;241m=\u001b[39m\u001b[38;5;28;01mTrue\u001b[39;00m)\n",
      "\u001b[1;31mKeyboardInterrupt\u001b[0m: Interrupted by user"
     ]
    }
   ],
   "source": [
    "upto = int(input(\"Find sum of prime numbers upto : \"))\n",
    "\n",
    "sum = 0\n",
    "\n",
    "for num in range(3, upto+1):\n",
    "\n",
    "    \n",
    "    for i in range(2, num):\n",
    "        if (int(num % i) == 0):\n",
    "            break;\n",
    "\n",
    "    #If the number is prime then add it.\n",
    "    else:\n",
    "        sum += num\n",
    "\n",
    "print(\"\\nSum of all prime numbers upto\", upto, \":\", sum)"
   ]
  },
  {
   "cell_type": "code",
   "execution_count": 68,
   "id": "31a6c84e",
   "metadata": {},
   "outputs": [
    {
     "name": "stdout",
     "output_type": "stream",
     "text": [
      "2 3 5 7 "
     ]
    }
   ],
   "source": [
    "#display sum of first 10 prime number\n",
    "\n",
    "r=10 \n",
    "for a in range(2,r+1):  \n",
    "    k=0  \n",
    "    for i in range(2,a//2+1):  \n",
    "        if(a%i==0):  \n",
    "            k=k+1  \n",
    "    if(k<=0):  \n",
    "        print(a,end=\" \")  \n"
   ]
  },
  {
   "cell_type": "code",
   "execution_count": null,
   "id": "72797196",
   "metadata": {},
   "outputs": [],
   "source": [
    "upto = int(input(\"Find sum of prime numbers upto : \"))\n",
    "\n",
    "sum = 0\n",
    "\n",
    "for num in range(2, upto + 1):\n",
    "\n",
    "    i = 2\n",
    "    \n",
    "    for i in range(2, num):\n",
    "        if (int(num % i) == 0):\n",
    "            i = num\n",
    "            break;\n",
    "\n",
    "    #If the number is prime then add it.\n",
    "    if i is not num:\n",
    "        sum += num\n",
    "\n",
    "print(\"\\nSum of all prime numbers upto\", upto, \":\", sum)\n",
    "\n"
   ]
  },
  {
   "cell_type": "code",
   "execution_count": null,
   "id": "f226347a",
   "metadata": {},
   "outputs": [],
   "source": []
  }
 ],
 "metadata": {
  "kernelspec": {
   "display_name": "Python 3 (ipykernel)",
   "language": "python",
   "name": "python3"
  },
  "language_info": {
   "codemirror_mode": {
    "name": "ipython",
    "version": 3
   },
   "file_extension": ".py",
   "mimetype": "text/x-python",
   "name": "python",
   "nbconvert_exporter": "python",
   "pygments_lexer": "ipython3",
   "version": "3.11.4"
  }
 },
 "nbformat": 4,
 "nbformat_minor": 5
}
