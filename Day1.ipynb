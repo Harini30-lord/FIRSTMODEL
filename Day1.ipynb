{
 "cells": [
  {
   "cell_type": "markdown",
   "id": "273c4a56",
   "metadata": {},
   "source": [
    "# 1.manipulate using list:\n",
    "    a)to add new elements to end\n",
    "    b) to reverse elements\n",
    "    c) to display the same lits of elements multiple times\n",
    "    d) to  concatenate two list\n",
    "    e)to sort elements in list in ascending order.\n",
    "    \n",
    "    \n",
    "    "
   ]
  },
  {
   "cell_type": "code",
   "execution_count": 85,
   "id": "be7d4d30",
   "metadata": {},
   "outputs": [
    {
     "data": {
      "text/plain": [
       "['1', '3', '5', '7', '9']"
      ]
     },
     "execution_count": 85,
     "metadata": {},
     "output_type": "execute_result"
    }
   ],
   "source": [
    " new =   [ '1','3','5','7','9']            #a)to add new elements to end\n",
    " new\n",
    " "
   ]
  },
  {
   "cell_type": "code",
   "execution_count": 86,
   "id": "a625060a",
   "metadata": {},
   "outputs": [
    {
     "data": {
      "text/plain": [
       "['1', '3', '5', '7', '9', '0']"
      ]
     },
     "execution_count": 86,
     "metadata": {},
     "output_type": "execute_result"
    }
   ],
   "source": [
    "new.append('0')                          #a)to add new elements to end\n",
    "new"
   ]
  },
  {
   "cell_type": "code",
   "execution_count": 87,
   "id": "85ff88e3",
   "metadata": {},
   "outputs": [
    {
     "data": {
      "text/plain": [
       "['1', '3', '5', '7', '9', '0']"
      ]
     },
     "execution_count": 87,
     "metadata": {},
     "output_type": "execute_result"
    }
   ],
   "source": [
    "new.reverse   #b) to reverse elements\n",
    "new"
   ]
  },
  {
   "cell_type": "code",
   "execution_count": 88,
   "id": "d0c0ca9c",
   "metadata": {},
   "outputs": [
    {
     "ename": "SyntaxError",
     "evalue": "invalid syntax (1295972602.py, line 1)",
     "output_type": "error",
     "traceback": [
      "\u001b[1;36m  Cell \u001b[1;32mIn[88], line 1\u001b[1;36m\u001b[0m\n\u001b[1;33m    new.reverse(:-1)\u001b[0m\n\u001b[1;37m                ^\u001b[0m\n\u001b[1;31mSyntaxError\u001b[0m\u001b[1;31m:\u001b[0m invalid syntax\n"
     ]
    }
   ],
   "source": [
    "new.reverse(:-1)\n",
    "new"
   ]
  },
  {
   "cell_type": "code",
   "execution_count": null,
   "id": "bc88aa0a",
   "metadata": {},
   "outputs": [],
   "source": [
    "print(new)"
   ]
  },
  {
   "cell_type": "code",
   "execution_count": null,
   "id": "c9b0f422",
   "metadata": {},
   "outputs": [],
   "source": [
    "new.reverse()\n",
    "new"
   ]
  },
  {
   "cell_type": "markdown",
   "id": "c3dc8c5a",
   "metadata": {},
   "source": [
    " new = ['1','3','5','7'] * 30\n",
    "new       # c) to display the same lits of elements multiple times"
   ]
  },
  {
   "cell_type": "code",
   "execution_count": null,
   "id": "0af05c25",
   "metadata": {},
   "outputs": [],
   "source": [
    "new1 = [3,8,9]\n",
    "new2 = [2,4,6]\n",
    "new  = new1+new2\n",
    "print(new)    #to concatenate two list"
   ]
  },
  {
   "cell_type": "code",
   "execution_count": null,
   "id": "693fd5b5",
   "metadata": {},
   "outputs": [],
   "source": [
    "new4 = sorted(new)\n",
    "print(new4)     #to sort elements in list in ascending order."
   ]
  },
  {
   "cell_type": "markdown",
   "id": "adb09244",
   "metadata": {},
   "source": [
    "# 2.python program for the tuples:\n",
    "    . manipulate using tuples\n",
    "    . to add new elements to the end of the tuples\n",
    "    . to reverse elements \n",
    "    . to display the elements of same tuple multiple times\n",
    "    . to concatenate two tuples\n",
    "    . to sort the elements in list in ascending order\n",
    "    \n",
    "    "
   ]
  },
  {
   "cell_type": "code",
   "execution_count": null,
   "id": "e9700f6a",
   "metadata": {},
   "outputs": [],
   "source": [
    "tuple = ('200','100','5','0','3','6','90')\n",
    "tuple\n",
    "\n",
    "          #manipulate using tuples"
   ]
  },
  {
   "cell_type": "code",
   "execution_count": null,
   "id": "9e5c577d",
   "metadata": {},
   "outputs": [],
   "source": [
    "print(tuple.count(3))"
   ]
  },
  {
   "cell_type": "code",
   "execution_count": null,
   "id": "e57503f5",
   "metadata": {},
   "outputs": [],
   "source": [
    "tuple1 = ( 7,5,9,1,3)\n",
    "print(tuple1.index(9))"
   ]
  },
  {
   "cell_type": "code",
   "execution_count": null,
   "id": "0cbdd36d",
   "metadata": {},
   "outputs": [],
   "source": [
    "print(len(tuple1))"
   ]
  },
  {
   "cell_type": "code",
   "execution_count": null,
   "id": "47208f7e",
   "metadata": {},
   "outputs": [],
   "source": [
    "print(min(tuple1))\n",
    "print(max(tuple1))"
   ]
  },
  {
   "cell_type": "code",
   "execution_count": null,
   "id": "fa912622",
   "metadata": {},
   "outputs": [],
   "source": [
    "tuple1 = tuple+(2,4)\n",
    "tuple1  #to add new elements to the end of the tuples"
   ]
  },
  {
   "cell_type": "code",
   "execution_count": null,
   "id": "8f52e040",
   "metadata": {},
   "outputs": [],
   "source": [
    " tuple1  #. to reverse elements \n"
   ]
  },
  {
   "cell_type": "code",
   "execution_count": null,
   "id": "ed2bee96",
   "metadata": {},
   "outputs": [],
   "source": [
    "print( 'after :',tuple1[::-1])"
   ]
  },
  {
   "cell_type": "code",
   "execution_count": null,
   "id": "f35c8124",
   "metadata": {},
   "outputs": [],
   "source": [
    "print('reverse :' ,tuple1[3::-1])"
   ]
  },
  {
   "cell_type": "code",
   "execution_count": null,
   "id": "48783845",
   "metadata": {},
   "outputs": [],
   "source": [
    "tuple2 = tuple1 * 7\n",
    "tuple2             #to display the elements of same tuple multiple times"
   ]
  },
  {
   "cell_type": "code",
   "execution_count": null,
   "id": "b46b1741",
   "metadata": {},
   "outputs": [],
   "source": [
    "tuple2 = tuple+tuple1\n",
    "tuple2   #to concatenate two tuples"
   ]
  },
  {
   "cell_type": "code",
   "execution_count": null,
   "id": "fe8767f0",
   "metadata": {},
   "outputs": [],
   "source": [
    "tuple2 = (30,5,90,200,4,2)\n",
    "sorted_tuple2 = sorted(tuple2)\n",
    "print(sorted_tuple2)   #to sort the elements in list in ascending order"
   ]
  },
  {
   "cell_type": "markdown",
   "id": "5b1e2847",
   "metadata": {},
   "source": [
    "# 3.to implement using list:\n",
    "    a.create a list with integers(min10 number)\n",
    "    b.how to display the lastnumber in the list\n",
    "    c.command for displaying the values from list[0:4]\n",
    "    d.command for display the values from list[2:]\n",
    "    e.command for displaying the values from list[:6]\n",
    "    \n",
    "    "
   ]
  },
  {
   "cell_type": "code",
   "execution_count": null,
   "id": "9ed73aae",
   "metadata": {},
   "outputs": [],
   "source": [
    "n = 10\n",
    "output = []\n",
    "\n",
    "for i in range(1,n+1):\n",
    "    output.append(i)\n",
    "    \n",
    "print(output)#a.create a list with integers(min10 number)\n"
   ]
  },
  {
   "cell_type": "code",
   "execution_count": null,
   "id": "65db23c5",
   "metadata": {},
   "outputs": [],
   "source": [
    "list = [1,2,3,4,5,6,7,8,9,10]\n",
    "\n",
    "print(list[-1])\n",
    "    \n",
    "    \n",
    "                                                                        #b.how to display the lastnumber in the list\n"
   ]
  },
  {
   "cell_type": "code",
   "execution_count": null,
   "id": "839b11f0",
   "metadata": {},
   "outputs": [],
   "source": [
    "print(list[0:4]) \n",
    "list   #command for displaying the values from list[0:4]"
   ]
  },
  {
   "cell_type": "code",
   "execution_count": null,
   "id": "6d502b3c",
   "metadata": {},
   "outputs": [],
   "source": [
    "print(list[2:])   # d.command for display the values from list[2:]\n",
    "print(list[:6])               #e.command for displaying the values from list[:6]\n"
   ]
  },
  {
   "cell_type": "markdown",
   "id": "45755892",
   "metadata": {},
   "source": [
    "# 4.program: tuple5 = (10,50,20,40,30)\n",
    "    .to display the elements 10 and 50 from tuple5\n",
    "    . display the length of tuple5\n",
    "    . find minimum element of tuple5\n",
    "    . to add all the elements in tuple5\n",
    "    . display the same tuple5 multiple times\n",
    "    "
   ]
  },
  {
   "cell_type": "code",
   "execution_count": null,
   "id": "4a5620ea",
   "metadata": {},
   "outputs": [],
   "source": [
    "\n",
    "tuple5 = ('10','50','20','40','30')\n",
    "\n",
    "print(tuple5) #to display the elements 10 and 50 from tuple5\n",
    "                                                           #. display the length of tuple5"
   ]
  },
  {
   "cell_type": "code",
   "execution_count": null,
   "id": "ca7ea590",
   "metadata": {},
   "outputs": [],
   "source": [
    " tuple5.index('10')"
   ]
  },
  {
   "cell_type": "code",
   "execution_count": null,
   "id": "95b51fc7",
   "metadata": {},
   "outputs": [],
   "source": [
    "tuple5.index('50')"
   ]
  },
  {
   "cell_type": "code",
   "execution_count": null,
   "id": "18244be9",
   "metadata": {},
   "outputs": [],
   "source": [
    "len(tuple5)                                                           #. display the length of tuple5"
   ]
  },
  {
   "cell_type": "code",
   "execution_count": null,
   "id": "37d41acd",
   "metadata": {},
   "outputs": [],
   "source": [
    "(min(tuple5))                                          #find minimum element of tuple5print(min(tuple1))                                  #. to add all the elements in tuple5\n",
    "                               #. display the same tuple5 multiple times\n",
    "    "
   ]
  },
  {
   "cell_type": "code",
   "execution_count": null,
   "id": "02c293a1",
   "metadata": {},
   "outputs": [],
   "source": [
    "tuple5 * n"
   ]
  },
  {
   "cell_type": "code",
   "execution_count": null,
   "id": "9603eaf0",
   "metadata": {},
   "outputs": [],
   "source": [
    "tuple5 = ('30','10',50,20,40)\n",
    "new = (6,)\n",
    "tuple5 += new \n",
    "print"
   ]
  },
  {
   "cell_type": "markdown",
   "id": "8eb34df3",
   "metadata": {},
   "source": [
    "# 5.python program in string:\n",
    "    . to calculate the length of string\n",
    "    . to reverse words in a string\n",
    "    . to display the same string multiple times\n",
    "    . to concatenate two strings\n",
    "    . str1=\"south india\", using string slicing to display \"india\"\n",
    "    \n",
    "    "
   ]
  },
  {
   "cell_type": "code",
   "execution_count": null,
   "id": "fae449b1",
   "metadata": {},
   "outputs": [],
   "source": [
    "#i)To calculate the length of the string\n",
    "str=input(\"Enter String\")\n",
    "print(len(str))\n"
   ]
  },
  {
   "cell_type": "code",
   "execution_count": null,
   "id": "2ed61834",
   "metadata": {},
   "outputs": [],
   "source": [
    "str = \"geeks\"\n",
    "print(len(str))"
   ]
  },
  {
   "cell_type": "code",
   "execution_count": null,
   "id": "4e05696b",
   "metadata": {},
   "outputs": [],
   "source": [
    "g\n"
   ]
  },
  {
   "cell_type": "code",
   "execution_count": 89,
   "id": "b81a1ec4",
   "metadata": {},
   "outputs": [
    {
     "ename": "TypeError",
     "evalue": "'int' object is not callable",
     "output_type": "error",
     "traceback": [
      "\u001b[1;31m---------------------------------------------------------------------------\u001b[0m",
      "\u001b[1;31mTypeError\u001b[0m                                 Traceback (most recent call last)",
      "Cell \u001b[1;32mIn[89], line 2\u001b[0m\n\u001b[0;32m      1\u001b[0m \u001b[38;5;28mstr\u001b[39m \u001b[38;5;241m=\u001b[39m \u001b[38;5;124m\"\u001b[39m\u001b[38;5;124mgod to save\u001b[39m\u001b[38;5;124m\"\u001b[39m     \u001b[38;5;66;03m# to calculate the length of string\u001b[39;00m\n\u001b[1;32m----> 2\u001b[0m \u001b[38;5;28mprint\u001b[39m(\u001b[38;5;28mlen\u001b[39m(\u001b[38;5;28mstr\u001b[39m))\n",
      "\u001b[1;31mTypeError\u001b[0m: 'int' object is not callable"
     ]
    }
   ],
   "source": [
    "str = \"god to save\"     # to calculate the length of string\n",
    "print(len(str))"
   ]
  },
  {
   "cell_type": "code",
   "execution_count": 1,
   "id": "edf4dfc6",
   "metadata": {},
   "outputs": [
    {
     "ename": "KeyboardInterrupt",
     "evalue": "Interrupted by user",
     "output_type": "error",
     "traceback": [
      "\u001b[1;31m---------------------------------------------------------------------------\u001b[0m",
      "\u001b[1;31mKeyboardInterrupt\u001b[0m                         Traceback (most recent call last)",
      "Cell \u001b[1;32mIn[1], line 2\u001b[0m\n\u001b[0;32m      1\u001b[0m \u001b[38;5;66;03m#i)To calculate the length of the string\u001b[39;00m\n\u001b[1;32m----> 2\u001b[0m \u001b[38;5;28mstr\u001b[39m\u001b[38;5;241m=\u001b[39m\u001b[38;5;28minput\u001b[39m(\u001b[38;5;124m\"\u001b[39m\u001b[38;5;124mEnter String\u001b[39m\u001b[38;5;124m\"\u001b[39m)\n\u001b[0;32m      3\u001b[0m \u001b[38;5;28mprint\u001b[39m(\u001b[38;5;28mlen\u001b[39m(\u001b[38;5;28mstr\u001b[39m))\n",
      "File \u001b[1;32m~\\anaconda3\\Lib\\site-packages\\ipykernel\\kernelbase.py:1175\u001b[0m, in \u001b[0;36mKernel.raw_input\u001b[1;34m(self, prompt)\u001b[0m\n\u001b[0;32m   1171\u001b[0m \u001b[38;5;28;01mif\u001b[39;00m \u001b[38;5;129;01mnot\u001b[39;00m \u001b[38;5;28mself\u001b[39m\u001b[38;5;241m.\u001b[39m_allow_stdin:\n\u001b[0;32m   1172\u001b[0m     \u001b[38;5;28;01mraise\u001b[39;00m StdinNotImplementedError(\n\u001b[0;32m   1173\u001b[0m         \u001b[38;5;124m\"\u001b[39m\u001b[38;5;124mraw_input was called, but this frontend does not support input requests.\u001b[39m\u001b[38;5;124m\"\u001b[39m\n\u001b[0;32m   1174\u001b[0m     )\n\u001b[1;32m-> 1175\u001b[0m \u001b[38;5;28;01mreturn\u001b[39;00m \u001b[38;5;28mself\u001b[39m\u001b[38;5;241m.\u001b[39m_input_request(\n\u001b[0;32m   1176\u001b[0m     \u001b[38;5;28mstr\u001b[39m(prompt),\n\u001b[0;32m   1177\u001b[0m     \u001b[38;5;28mself\u001b[39m\u001b[38;5;241m.\u001b[39m_parent_ident[\u001b[38;5;124m\"\u001b[39m\u001b[38;5;124mshell\u001b[39m\u001b[38;5;124m\"\u001b[39m],\n\u001b[0;32m   1178\u001b[0m     \u001b[38;5;28mself\u001b[39m\u001b[38;5;241m.\u001b[39mget_parent(\u001b[38;5;124m\"\u001b[39m\u001b[38;5;124mshell\u001b[39m\u001b[38;5;124m\"\u001b[39m),\n\u001b[0;32m   1179\u001b[0m     password\u001b[38;5;241m=\u001b[39m\u001b[38;5;28;01mFalse\u001b[39;00m,\n\u001b[0;32m   1180\u001b[0m )\n",
      "File \u001b[1;32m~\\anaconda3\\Lib\\site-packages\\ipykernel\\kernelbase.py:1217\u001b[0m, in \u001b[0;36mKernel._input_request\u001b[1;34m(self, prompt, ident, parent, password)\u001b[0m\n\u001b[0;32m   1214\u001b[0m             \u001b[38;5;28;01mbreak\u001b[39;00m\n\u001b[0;32m   1215\u001b[0m \u001b[38;5;28;01mexcept\u001b[39;00m \u001b[38;5;167;01mKeyboardInterrupt\u001b[39;00m:\n\u001b[0;32m   1216\u001b[0m     \u001b[38;5;66;03m# re-raise KeyboardInterrupt, to truncate traceback\u001b[39;00m\n\u001b[1;32m-> 1217\u001b[0m     \u001b[38;5;28;01mraise\u001b[39;00m \u001b[38;5;167;01mKeyboardInterrupt\u001b[39;00m(\u001b[38;5;124m\"\u001b[39m\u001b[38;5;124mInterrupted by user\u001b[39m\u001b[38;5;124m\"\u001b[39m) \u001b[38;5;28;01mfrom\u001b[39;00m \u001b[38;5;28;01mNone\u001b[39;00m\n\u001b[0;32m   1218\u001b[0m \u001b[38;5;28;01mexcept\u001b[39;00m \u001b[38;5;167;01mException\u001b[39;00m:\n\u001b[0;32m   1219\u001b[0m     \u001b[38;5;28mself\u001b[39m\u001b[38;5;241m.\u001b[39mlog\u001b[38;5;241m.\u001b[39mwarning(\u001b[38;5;124m\"\u001b[39m\u001b[38;5;124mInvalid Message:\u001b[39m\u001b[38;5;124m\"\u001b[39m, exc_info\u001b[38;5;241m=\u001b[39m\u001b[38;5;28;01mTrue\u001b[39;00m)\n",
      "\u001b[1;31mKeyboardInterrupt\u001b[0m: Interrupted by user"
     ]
    },
    {
     "name": "stdout",
     "output_type": "stream",
     "text": [
      "Enter Stringfool\n"
     ]
    }
   ],
   "source": [
    "#i)To calculate the length of the string\n",
    "str=input(\"Enter String\")\n",
    "print(len(str))\n"
   ]
  },
  {
   "cell_type": "code",
   "execution_count": 2,
   "id": "d3e7fdcb",
   "metadata": {},
   "outputs": [
    {
     "name": "stdout",
     "output_type": "stream",
     "text": [
      "Enter String:hello world\n",
      "dlrow olleh\n"
     ]
    }
   ],
   "source": [
    "#ii)To reverse words in a string\n",
    "str=input(\"Enter String:\")\n",
    "print(str[::-1])\n"
   ]
  },
  {
   "cell_type": "code",
   "execution_count": 4,
   "id": "a0db6104",
   "metadata": {},
   "outputs": [
    {
     "data": {
      "text/plain": [
       "'Good afternoonGood afternoonGood afternoon'"
      ]
     },
     "execution_count": 4,
     "metadata": {},
     "output_type": "execute_result"
    }
   ],
   "source": [
    "#iii)To display same string multiple times\n",
    "str=\"Good afternoon\"\n",
    "s=str*3\n",
    "s\n"
   ]
  },
  {
   "cell_type": "code",
   "execution_count": 5,
   "id": "2c3749dc",
   "metadata": {},
   "outputs": [
    {
     "name": "stdout",
     "output_type": "stream",
     "text": [
      "heartly congralutions\n"
     ]
    }
   ],
   "source": [
    "#iv)To concatenate the strings\n",
    "s1=\"heartly\"\n",
    "s2=\"congralutions\"\n",
    "s3=s1+\" \"+s2\n",
    "print(s3)\n"
   ]
  },
  {
   "cell_type": "code",
   "execution_count": 6,
   "id": "8bde797d",
   "metadata": {},
   "outputs": [
    {
     "name": "stdout",
     "output_type": "stream",
     "text": [
      "India\n"
     ]
    }
   ],
   "source": [
    "#v)Str1=\"South India\" using slicing display only \"India\"\n",
    "str1=\"South India\"\n",
    "print(str1[6::])\n"
   ]
  },
  {
   "cell_type": "markdown",
   "id": "8a9b3ddf",
   "metadata": {},
   "source": [
    "# 6.dictionary\n",
    " .create\n",
    " .accessing the dic\n",
    " .updating the dic using function\n",
    " .clear and delete\n",
    " "
   ]
  },
  {
   "cell_type": "code",
   "execution_count": 7,
   "id": "6ef4b707",
   "metadata": {},
   "outputs": [
    {
     "data": {
      "text/plain": [
       "{'sport': 'tennis', 'cartoon': 'ben tennyson', 'born': '2000'}"
      ]
     },
     "execution_count": 7,
     "metadata": {},
     "output_type": "execute_result"
    }
   ],
   "source": [
    "my_dic = {'sport': 'tennis','cartoon': 'ben tennyson','born': '2000'}\n",
    "my_dic"
   ]
  },
  {
   "cell_type": "code",
   "execution_count": 9,
   "id": "c9396f68",
   "metadata": {},
   "outputs": [
    {
     "data": {
      "text/plain": [
       "'ben tennyson'"
      ]
     },
     "execution_count": 9,
     "metadata": {},
     "output_type": "execute_result"
    }
   ],
   "source": [
    "my_dic.get('cartoon')"
   ]
  },
  {
   "cell_type": "code",
   "execution_count": 10,
   "id": "ddb70802",
   "metadata": {},
   "outputs": [
    {
     "data": {
      "text/plain": [
       "dict_keys(['sport', 'cartoon', 'born'])"
      ]
     },
     "execution_count": 10,
     "metadata": {},
     "output_type": "execute_result"
    }
   ],
   "source": [
    "my_dic.keys()"
   ]
  },
  {
   "cell_type": "code",
   "execution_count": 11,
   "id": "963dedcf",
   "metadata": {},
   "outputs": [
    {
     "data": {
      "text/plain": [
       "dict_values(['tennis', 'ben tennyson', '2000'])"
      ]
     },
     "execution_count": 11,
     "metadata": {},
     "output_type": "execute_result"
    }
   ],
   "source": [
    "my_dic.values()"
   ]
  },
  {
   "cell_type": "code",
   "execution_count": 12,
   "id": "6ac2c7b4",
   "metadata": {},
   "outputs": [
    {
     "data": {
      "text/plain": [
       "dict_items([('sport', 'tennis'), ('cartoon', 'ben tennyson'), ('born', '2000')])"
      ]
     },
     "execution_count": 12,
     "metadata": {},
     "output_type": "execute_result"
    }
   ],
   "source": [
    "my_dic.items()"
   ]
  },
  {
   "cell_type": "code",
   "execution_count": 20,
   "id": "3ca45784",
   "metadata": {},
   "outputs": [
    {
     "data": {
      "text/plain": [
       "{'sport': 'tennis', 'cartoon': 'ben tennyson', 'born': '2003'}"
      ]
     },
     "execution_count": 20,
     "metadata": {},
     "output_type": "execute_result"
    }
   ],
   "source": [
    "my_dic.update({'born':'2003'})\n",
    "my_dic"
   ]
  },
  {
   "cell_type": "code",
   "execution_count": 21,
   "id": "4e01b542",
   "metadata": {},
   "outputs": [
    {
     "name": "stdout",
     "output_type": "stream",
     "text": [
      "{'sport': 'tennis', 'cartoon': 'ben tennyson'}\n"
     ]
    }
   ],
   "source": [
    "my_dic.pop('born')\n",
    "print(my_dic)"
   ]
  },
  {
   "cell_type": "code",
   "execution_count": 22,
   "id": "d848907d",
   "metadata": {},
   "outputs": [
    {
     "name": "stdout",
     "output_type": "stream",
     "text": [
      "{'sport': 'tennis'}\n"
     ]
    }
   ],
   "source": [
    "my_dic.popitem()\n",
    "print(my_dic)"
   ]
  },
  {
   "cell_type": "code",
   "execution_count": 23,
   "id": "44d54d97",
   "metadata": {},
   "outputs": [
    {
     "name": "stdout",
     "output_type": "stream",
     "text": [
      "{}\n"
     ]
    }
   ],
   "source": [
    "my_dic.clear()\n",
    "print(my_dic)"
   ]
  },
  {
   "cell_type": "code",
   "execution_count": 27,
   "id": "e3f06669",
   "metadata": {},
   "outputs": [
    {
     "ename": "NameError",
     "evalue": "name 'my_dic' is not defined",
     "output_type": "error",
     "traceback": [
      "\u001b[1;31m---------------------------------------------------------------------------\u001b[0m",
      "\u001b[1;31mNameError\u001b[0m                                 Traceback (most recent call last)",
      "Cell \u001b[1;32mIn[27], line 1\u001b[0m\n\u001b[1;32m----> 1\u001b[0m \u001b[38;5;28;01mdel\u001b[39;00m my_dic[\u001b[38;5;124m'\u001b[39m\u001b[38;5;124msport\u001b[39m\u001b[38;5;124m'\u001b[39m]\n\u001b[0;32m      2\u001b[0m \u001b[38;5;28mprint\u001b[39m(my_dic)\n",
      "\u001b[1;31mNameError\u001b[0m: name 'my_dic' is not defined"
     ]
    }
   ],
   "source": [
    "del my_dic['sport']\n",
    "print(my_dic)\n"
   ]
  },
  {
   "cell_type": "code",
   "execution_count": 32,
   "id": "d875f8cd",
   "metadata": {},
   "outputs": [
    {
     "name": "stdout",
     "output_type": "stream",
     "text": [
      "[30, 8, 20, 72]\n",
      "updated_list: [1, 30, 8, 20, 72]\n",
      "updated_list: [1, 30, 8, 6, 20, 72]\n"
     ]
    }
   ],
   "source": [
    "#print the insert the integers in any position\n",
    "\n",
    "\n",
    "\n",
    "list_number=[30,8,20,72]\n",
    "print(list_number)\n",
    "\n",
    "list_number.insert(0,1)\n",
    "print(\"updated_list:\",list_number)\n",
    "\n",
    "list_number.insert(3,6)\n",
    "print(\"updated_list:\",list_number)\n"
   ]
  },
  {
   "cell_type": "code",
   "execution_count": 34,
   "id": "1d86d2ba",
   "metadata": {},
   "outputs": [
    {
     "name": "stdout",
     "output_type": "stream",
     "text": [
      "[93, 76, 24, 806, 117, 264]\n",
      "updated_list: [76, 24, 806, 117, 264]\n",
      "[93, 76, 24, 806, 117, 264]\n",
      "updated_list: [93, 76, 24, 806, 264]\n"
     ]
    }
   ],
   "source": [
    "#print the delete a element in index\n",
    "\n",
    "list_number=[93,76,24,806,117,264]\n",
    "print(list_number)\n",
    "\n",
    "list_number.pop(0)   #using pop\n",
    "print(\"updated_list:\",list_number)\n",
    "\n",
    "list_number=[93,76,24,806,117,264]\n",
    "print(list_number)\n",
    "\n",
    "del list_number[4]   #using del\n",
    "print(\"updated_list:\",list_number)\n"
   ]
  },
  {
   "cell_type": "code",
   "execution_count": 41,
   "id": "f0caf7f3",
   "metadata": {},
   "outputs": [
    {
     "name": "stdout",
     "output_type": "stream",
     "text": [
      "0\n",
      "9\n",
      "18\n",
      "27\n",
      "36\n",
      "45\n",
      "54\n",
      "63\n",
      "72\n",
      "81\n",
      "90\n",
      "99\n"
     ]
    }
   ],
   "source": [
    "#display the numbers from 1 to 100\n",
    "\n",
    "def display(count):\n",
    "    while count<=100:\n",
    "      print(count)\n",
    "      count=count+9;\n",
    "display(0)\n"
   ]
  },
  {
   "cell_type": "code",
   "execution_count": 54,
   "id": "ffd56349",
   "metadata": {},
   "outputs": [
    {
     "name": "stdout",
     "output_type": "stream",
     "text": [
      "54\n"
     ]
    }
   ],
   "source": [
    "#sum of all items in tuple\n",
    "\n",
    "\n",
    "\n",
    "\n",
    "my_tuple=(1,5,6,7,17,18)\n",
    "sum=0\n",
    "for i in my_tuple:    #using loop\n",
    "    sum+= i\n",
    "print(sum)\n"
   ]
  },
  {
   "cell_type": "code",
   "execution_count": 57,
   "id": "f90ade09",
   "metadata": {},
   "outputs": [
    {
     "name": "stdout",
     "output_type": "stream",
     "text": [
      "Please enter a character A-Z:\n",
      "h\n",
      "h is present in the list\n"
     ]
    }
   ],
   "source": [
    " #CONTROL STRUCTURE 3.# search for string in  the list.\n",
    "\n",
    "l1 = ['A', 'B', 'C', 'D', 'a', 'h', 'f']\n",
    "s = input('Please enter a character A-Z:\\n')\n",
    "\n",
    "if s in l1:\n",
    "    print(f'{s} is present in the list')\n",
    "else:\n",
    "    print(f'{s} is not present in the list')\n"
   ]
  },
  {
   "cell_type": "code",
   "execution_count": 58,
   "id": "324cd42b",
   "metadata": {},
   "outputs": [
    {
     "name": "stdout",
     "output_type": "stream",
     "text": [
      "Original String :  The Foxtale is most promising brand in START-UP\n",
      "No. of Upper case characters :  9\n",
      "No. of Lower case Characters :  30\n"
     ]
    }
   ],
   "source": [
    "#CONTROL STRUCTURE # 4. function accepts the string and find no.of uppercase and no.of lowercase\n",
    "\n",
    "\n",
    "\n",
    "def string_test(s):\n",
    "    d={\"UPPER_CASE\":0, \"LOWER_CASE\":0}\n",
    "    for c in s:\n",
    "        if c.isupper():\n",
    "           d[\"UPPER_CASE\"]+=1\n",
    "        elif c.islower():\n",
    "           d[\"LOWER_CASE\"]+=1\n",
    "        else:\n",
    "           pass\n",
    "    print (\"Original String : \", s)\n",
    "    print (\"No. of Upper case characters : \", d[\"UPPER_CASE\"])\n",
    "    print (\"No. of Lower case Characters : \", d[\"LOWER_CASE\"])\n",
    "\n",
    "string_test('The Foxtale is most promising brand in START-UP')\n",
    "\n"
   ]
  },
  {
   "cell_type": "code",
   "execution_count": 63,
   "id": "14c9e64c",
   "metadata": {},
   "outputs": [
    {
     "name": "stdout",
     "output_type": "stream",
     "text": [
      "Number of even numbers : 13\n",
      "Number of odd numbers : 13\n"
     ]
    }
   ],
   "source": [
    "#CONTROL STRUCTURE # 5. display the number of odd & even between 12 and 37\n",
    "\n",
    "start, end = 12, 37\n",
    " \n",
    "# iterating each number in list\n",
    "#for num in range(start, end + 1):\n",
    "\n",
    "#numbers = (12,13,14,15,16,17,18,19,20,21,22,23,24,25,26,27,28,29,30,31,32,33,34,35,36,37)\n",
    "                                    \n",
    "count_odd = 0\n",
    "count_even = 0\n",
    "for x in range(start, end + 1):\n",
    "        if  x % 2:\n",
    "    \t     count_even+=1\n",
    "        else:\n",
    "             count_odd+=1\n",
    "print(\"Number of even numbers :\",count_even)\n",
    "print(\"Number of odd numbers :\",count_odd)"
   ]
  },
  {
   "cell_type": "code",
   "execution_count": 61,
   "id": "47371703",
   "metadata": {},
   "outputs": [
    {
     "name": "stdout",
     "output_type": "stream",
     "text": [
      "P\n",
      "Py\n",
      "Pyt\n",
      "Pyth\n",
      "Pytho\n",
      "Python\n",
      "Enter no of rows:3\n",
      "* \n",
      "* * \n",
      "* * * \n"
     ]
    }
   ],
   "source": [
    "#CONTROl STRUCTURE 17.pattern\n",
    "\n",
    "word = \"Python\"\n",
    "x = \"\"\n",
    "for i in word:\n",
    "    x += i\n",
    "    print(x)\n",
    "n=int(input(\"Enter no of rows:\"))\n",
    "for i in range(0, n):\n",
    "    for j in range(0, i + 1):\n",
    "        print(\"*\", end=' ')\n",
    "    print(\"\\r\")\n"
   ]
  },
  {
   "cell_type": "code",
   "execution_count": 62,
   "id": "122d5b7b",
   "metadata": {},
   "outputs": [
    {
     "name": "stdout",
     "output_type": "stream",
     "text": [
      "Enter no of rows:10\n",
      "                  *   \n",
      "                 *  *   \n",
      "                *  *  *   \n",
      "               *  *  *  *   \n",
      "              *  *  *  *  *   \n",
      "             *  *  *  *  *  *   \n",
      "            *  *  *  *  *  *  *   \n",
      "           *  *  *  *  *  *  *  *   \n",
      "          *  *  *  *  *  *  *  *  *   \n",
      "         *  *  *  *  *  *  *  *  *  *   \n",
      "Enter number:6\n",
      "      \n",
      "     1 \n",
      "    1 1 \n",
      "   1 2 1 \n",
      "  1 3 3 1 \n",
      " 1 4 6 4 1 \n",
      "1 5 10 10 5 1 \n"
     ]
    }
   ],
   "source": [
    "#CONTROL STRUCTURE 17.Pattern\n",
    "\n",
    "\n",
    "n=int(input(\"Enter no of rows:\"))\n",
    "m=(2 * n) - 2\n",
    "for i in range(0, n):\n",
    "    for j in range(0, m):\n",
    "        print(end=\" \")\n",
    "    m=m - 1\n",
    "    for j in range(0, i + 1):\n",
    "        print(\"* \", end=' ')\n",
    "    print(\" \")\n",
    "n=int(input(\"Enter number:\"))\n",
    "for i in range(n+1):\n",
    "    for j in range(n-i):\n",
    "        print(' ', end='')\n",
    "\n",
    "    a = 1\n",
    "    for j in range(1, i+1):\n",
    "        print(a, ' ', sep='', end='')\n",
    "        a = a * (i - j) // j\n",
    "    print()\n",
    "\n",
    " \n"
   ]
  },
  {
   "cell_type": "code",
   "execution_count": 64,
   "id": "d94b3e2c",
   "metadata": {},
   "outputs": [
    {
     "name": "stdout",
     "output_type": "stream",
     "text": [
      "Enter the number of which the user wants to print the multiplication table: 4\n",
      "The Multiplication Table of:  4\n",
      "4 x 1 = 4\n",
      "4 x 2 = 8\n",
      "4 x 3 = 12\n",
      "4 x 4 = 16\n",
      "4 x 5 = 20\n",
      "4 x 6 = 24\n",
      "4 x 7 = 28\n",
      "4 x 8 = 32\n",
      "4 x 9 = 36\n",
      "4 x 10 = 40\n"
     ]
    }
   ],
   "source": [
    "#CONTROL STRUCTURE 6.create the number table for any number\n",
    "\n",
    "\n",
    "number = int(input (\"Enter the number of which the user wants to print the multiplication table: \"))      \n",
    "                                                              # We are using \"for loop\" to iterate the multiplication 10 times       \n",
    "print (\"The Multiplication Table of: \", number)    \n",
    "for count in range(1, 11):      \n",
    "   print (number, 'x', count, '=', number * count)    \n"
   ]
  },
  {
   "cell_type": "code",
   "execution_count": 68,
   "id": "77c02b21",
   "metadata": {},
   "outputs": [
    {
     "name": "stdout",
     "output_type": "stream",
     "text": [
      "2 3 5 7 "
     ]
    }
   ],
   "source": [
    "#display sum of first 10 prime number\n",
    "\n",
    "r=10 \n",
    "for a in range(2,r+1):  \n",
    "    k=0  \n",
    "    for i in range(2,a//2+1):  \n",
    "        if(a%i==0):  \n",
    "            k=k+1  \n",
    "    if(k<=0):  \n",
    "        print(a,end=\" \")  \n"
   ]
  },
  {
   "cell_type": "code",
   "execution_count": 5,
   "id": "72994348",
   "metadata": {},
   "outputs": [
    {
     "name": "stdout",
     "output_type": "stream",
     "text": [
      "\n",
      "Please enter the last number up till which sum of prime number is to be found:10\n",
      "We will find the sum of prime numbers in python upto 10\n",
      "\n",
      "The sum of prime numbers in python from 1 to  10  is : 39\n"
     ]
    }
   ],
   "source": [
    "   #CONTROL STRUCTURER #  7.sum of first 10 prime numbers\n",
    "\n",
    "\n",
    "last_number = int(input(\"\\nPlease enter the last number up till which sum of prime number is to be found:\"))\n",
    "\n",
    "print (\"We will find the sum of prime numbers in python upto\", last_number)\n",
    "\n",
    "sum = 0\n",
    "\n",
    "for number in range(2, last_number + 1):\n",
    "\n",
    "    i = 2\n",
    "    for i in range(2, number):\n",
    "        if (int(number % i) == 0):\n",
    "            i = number\n",
    "            break;\n",
    "\n",
    "    if i is  number:\n",
    "        \n",
    "        sum = sum + number\n",
    "\n",
    "print(\"\\nThe sum of prime numbers in python from 1 to \", last_number, \" is :\", sum)\n",
    "\n"
   ]
  },
  {
   "cell_type": "code",
   "execution_count": 16,
   "id": "95fd9f45",
   "metadata": {},
   "outputs": [
    {
     "name": "stdout",
     "output_type": "stream",
     "text": [
      "Enter Mark-1  : 45\n",
      "Enter Mark-2  : 67\n",
      "Enter Mark-3  : 78\n",
      "Enter Mark-4  : 90\n",
      "Enter Mark-5  : 56\n",
      "Total  :  336\n",
      "Average  :  67.2\n",
      "Result  : Pass\n",
      "Grade : D\n"
     ]
    }
   ],
   "source": [
    "#5 subject_marks\n",
    "#Subject_Total\n",
    "#Subject_Average\n",
    "#Subject_Result\n",
    "\n",
    "#If Pass Grade\n",
    " # 90-100 A\n",
    " # 80-89 B\n",
    "   # 70-79 C\n",
    "   # Else D\n",
    "   # Else F\n",
    "\n",
    "    #   CONTROL STRUCUTURE  #8. implement the arithmentic operation using nested if condition\n",
    "    \n",
    "m1 = int(input(\"Enter Mark-1  : \"))\n",
    "m2 = int(input(\"Enter Mark-2  : \"))\n",
    "m3 = int(input(\"Enter Mark-3  : \"))\n",
    "m4 = int(input(\"Enter Mark-4  : \"))\n",
    "m5 = int(input(\"Enter Mark-5  : \"))\n",
    "\n",
    "total = m1 + m2 + m3 + m4 + m5\n",
    "average = total / 5.0\n",
    "print(\"Total  : \", total)\n",
    "print(\"Average  : \", average)\n",
    "if m1 >= 35 and m2 >= 35 and m3 >= 35 and m4 >= 35 and m5 >= 35:\n",
    "    print(\"Result  : Pass\")\n",
    "    if average >= 90 and average <= 100:\n",
    "        print(\"Grade : A\")\n",
    "    elif average >= 80 and average <= 89:\n",
    "        print(\"Grade : B\")\n",
    "    elif average >= 70 and average <= 79:\n",
    "        print(\"Grade : C\")\n",
    "    else:\n",
    "        print(\"Grade : D\")\n",
    "else:\n",
    "    print(\"Result  : Fail\")\n",
    "    print(\"Grade   : No Grade\")\n",
    "\n",
    "\n"
   ]
  },
  {
   "cell_type": "code",
   "execution_count": 11,
   "id": "2083600c",
   "metadata": {},
   "outputs": [
    {
     "name": "stdout",
     "output_type": "stream",
     "text": [
      " Please Enter Your Age Here:  13\n",
      " You are Minor \n",
      " You are not Eligible to Work \n"
     ]
    }
   ],
   "source": [
    "    #   CONTROL STRUCUTURE  #8. implement the arithmentic operation using nested if condition\n",
    "\n",
    "\n",
    "age = int(input(\" Please Enter Your Age Here:  \"))\n",
    "if age < 18:\n",
    "    print(\" You are Minor \") \n",
    "    print(\" You are not Eligible to Work \") \n",
    "else:\n",
    "    if age >= 18 and age <= 60:\n",
    "        print(\" You are Eligible to Work \")\n",
    "        print(\" Please fill in your details and apply\")\n",
    "    else:\n",
    "        print(\" You are too old to work as per the Government rules\")\n",
    "        print(\" Please Collect your pension!\")\n"
   ]
  },
  {
   "cell_type": "code",
   "execution_count": 18,
   "id": "01589636",
   "metadata": {},
   "outputs": [
    {
     "name": "stdout",
     "output_type": "stream",
     "text": [
      "Enter the Temperature in Celsius :\n",
      "34\n",
      "Temperature in Fahrenheit : 93.2\n"
     ]
    }
   ],
   "source": [
    "# CONTROL STRUCTURE # 9.convert the temperature in celsius into fahrenhit\n",
    "\n",
    "celsius = int(input(\"Enter the Temperature in Celsius :\\n\"))\n",
    "fahrenheit = (1.8 * celsius) + 32\n",
    "print(\"Temperature in Fahrenheit :\", fahrenheit)"
   ]
  },
  {
   "cell_type": "code",
   "execution_count": 28,
   "id": "17f04f5d",
   "metadata": {},
   "outputs": [
    {
     "name": "stdout",
     "output_type": "stream",
     "text": [
      "-67\n",
      "950\n"
     ]
    }
   ],
   "source": [
    "#10. CONTROL STRUCTURE minimum and maximum without using in built function\n",
    "\n",
    "def minimum(x):\n",
    "    x = sorted(x)\n",
    "    return x[0]\n",
    "\n",
    "def maximum(x):\n",
    "    x = sorted(x)\n",
    "    return x[-1]\n",
    "\n",
    "print(minimum([2, -5, 79, 20, -67]))\n",
    "print(maximum([45, -78, 950, 39, -567]))\n"
   ]
  },
  {
   "cell_type": "code",
   "execution_count": 33,
   "id": "6e9d5a8a",
   "metadata": {},
   "outputs": [
    {
     "name": "stdout",
     "output_type": "stream",
     "text": [
      "N0 of seconds in a year: 31536000\n"
     ]
    }
   ],
   "source": [
    "#12.CONTROL STRUCTURE hours in year\n",
    "\n",
    "days=365\n",
    "hours=24\n",
    "mins=60\n",
    "second=60\n",
    "seconds_year = days * hours * mins * second\n",
    "print(\"N0 of seconds in a year:\", seconds_year)\n"
   ]
  },
  {
   "cell_type": "code",
   "execution_count": 40,
   "id": "11bee5b8",
   "metadata": {},
   "outputs": [
    {
     "name": "stdout",
     "output_type": "stream",
     "text": [
      "2073600\n",
      "86400\n",
      "86400\n"
     ]
    }
   ],
   "source": [
    "#11.number of seconds in 30 days \n",
    "\n",
    "def seconds_per_day(days):\n",
    "    hours = days * 24\n",
    "    minutes = hours * 60\n",
    "    seconds = minutes * 60\n",
    "    return seconds\n",
    "print(seconds_per_day(24)) \n",
    "\n",
    "\n",
    "def hours_per_day(days):\n",
    "    hours = days * 24\n",
    "    minutes = hours * 60\n",
    "    seconds = minutes * 60\n",
    "    return seconds\n",
    "print(hours_per_day(1))\n",
    "\n",
    "def minutes_per_day(days):\n",
    "    hours = days * 24\n",
    "    minutes = hours * 60\n",
    "    seconds = minutes * 60\n",
    "    return seconds\n",
    "print(minutes_per_day(1))\n",
    "\n"
   ]
  },
  {
   "cell_type": "code",
   "execution_count": 42,
   "id": "002016e0",
   "metadata": {},
   "outputs": [
    {
     "name": "stdout",
     "output_type": "stream",
     "text": [
      "[12, 15, 19, 1, 2, 3, 8]\n"
     ]
    }
   ],
   "source": [
    "#16.right rotate the list without using slicing techniques\n",
    "\n",
    "\n",
    "def rightRotate(lists, num):\n",
    "    output_list = []\n",
    " \n",
    "                                                              # Will add values from n to the new lis\n",
    "    for item in range(len(lists) - num, len(lists)):\n",
    "        output_list.append(lists[item])\n",
    " \n",
    "                                                 # Will add the values before\n",
    "                                                 # n to the end of new list\n",
    "    for item in range(0, len(lists) - num):\n",
    "        output_list.append(lists[item])\n",
    " \n",
    "    return output_list\n",
    " \n",
    " \n",
    "                                \n",
    "rotate_num = 3\n",
    "list_1 = [1, 2, 3, 8, 12, 15, 19]\n",
    " \n",
    "print(rightRotate(list_1, rotate_num))\n"
   ]
  },
  {
   "cell_type": "code",
   "execution_count": 43,
   "id": "2a4dfdd3",
   "metadata": {},
   "outputs": [
    {
     "name": "stdout",
     "output_type": "stream",
     "text": [
      "Age of Ram:2\n",
      "Age of Sam:3\n",
      "Age of khan:1\n",
      "Sam is older\n",
      "khan is younger\n"
     ]
    }
   ],
   "source": [
    "#15. find the younger one among the three brothers\n",
    "\n",
    "age1=int(input(\"Age of Ram:\"))\n",
    "age2=int(input(\"Age of Sam:\"))\n",
    "age3=int(input(\"Age of khan:\"))\n",
    "                                                 \n",
    "if(age1>age2 and age1>age3):\n",
    "    print(\"Ram is older\")\n",
    "elif(age2>age3):\n",
    "    print(\"Sam is older\")\n",
    "else:\n",
    "    print(\"khan is older\")\n",
    "                                                \n",
    "if(age1<age2 and age1<age3):\n",
    "    print(\"Ram is younger\")\n",
    "elif(age2<age1 and age2<age3):\n",
    "    print(\"Sam is younger \")\n",
    "else:\n",
    "    print(\"khan is younger\")\n"
   ]
  },
  {
   "cell_type": "code",
   "execution_count": 52,
   "id": "47f33d29",
   "metadata": {},
   "outputs": [
    {
     "name": "stdout",
     "output_type": "stream",
     "text": [
      "9999.9\n"
     ]
    }
   ],
   "source": [
    "# CONTROL STRUCTURE #2. employee salary\n",
    "\n",
    "\n",
    "def employee_Salary(basic):\n",
    "     \n",
    "    hra = 0.15 * basic\n",
    "    da = 0.25 * basic\n",
    "    ta = 0.75 * basic\n",
    "    tax = 0.10 \n",
    "     \n",
    "    pay = round(basic + hra + da )\n",
    "    gross  = float(basic - tax)\n",
    "                     \n",
    "    return gross\n",
    " \n",
    "                                           # Driver code\n",
    "if __name__ == '__main__':\n",
    "     \n",
    "    basic = 10000\n",
    "     \n",
    "                                              # Function call\n",
    "    print(employee_Salary(basic))\n",
    "\n"
   ]
  },
  {
   "cell_type": "code",
   "execution_count": 58,
   "id": "44256427",
   "metadata": {},
   "outputs": [
    {
     "name": "stdout",
     "output_type": "stream",
     "text": [
      "show the time was taken : 4440.84\n",
      " show the average minute : 266450.4\n"
     ]
    }
   ],
   "source": [
    "avgspeed=150\n",
    "distance=666126                       #13.CONTROL STRUCTURE # mile =1609 meters,so(414*1609)\n",
    "time=666126/150                                #average speed=d/t\n",
    "print( \"show the time was taken :\",time)\n",
    "min=time*60                                             #1hr=60 min\n",
    "print(\" show the average minute :\",min)\n"
   ]
  },
  {
   "cell_type": "code",
   "execution_count": 61,
   "id": "271ce780",
   "metadata": {},
   "outputs": [
    {
     "name": "stdout",
     "output_type": "stream",
     "text": [
      "Enter n:50\n",
      "2\n",
      "3\n",
      "5\n",
      "7\n",
      "11\n",
      "13\n",
      "17\n",
      "19\n",
      "23\n",
      "29\n",
      "31\n",
      "37\n",
      "41\n",
      "43\n",
      "47\n"
     ]
    }
   ],
   "source": [
    "#print FIRST N prime number\n",
    "n= int(input(\"Enter n:\"))   \n",
    "for num in range (2,n+1):  \n",
    "    if num>1:  \n",
    "        for i in range (2, num):  \n",
    "            if (num%i)==0:  \n",
    "                break  \n",
    "        else:  \n",
    "            print(num)\n"
   ]
  },
  {
   "cell_type": "code",
   "execution_count": 72,
   "id": "b5d7440a",
   "metadata": {},
   "outputs": [
    {
     "name": "stdout",
     "output_type": "stream",
     "text": [
      "spent:  960\n",
      "hours:  5760\n"
     ]
    }
   ],
   "source": [
    "# CONTROL STRUCTURE 14. #days_in_each_year = 192\n",
    "                     #spent_hour = 6\n",
    "def school_year(n):\n",
    "    return(spent)\n",
    "    return(hours)\n",
    "\n",
    "\n",
    "spent = int (5*192)\n",
    "hours = int (spent*6)\n",
    "\n",
    "print('spent: ', spent )\n",
    "print('hours: ',  hours )\n",
    "    "
   ]
  },
  {
   "cell_type": "code",
   "execution_count": 103,
   "id": "f6068d74",
   "metadata": {},
   "outputs": [
    {
     "data": {
      "text/plain": [
       "['Dear', 'hOw', 'aRe', 'YOu']"
      ]
     },
     "execution_count": 103,
     "metadata": {},
     "output_type": "execute_result"
    }
   ],
   "source": [
    "##11. second character uppercase\n",
    "\n",
    "ls = [ 'hello','Dear','hOw','aRe','YOu']\n",
    " \n",
    "ls[2::]    \n",
    "\n",
    "ls[1::]"
   ]
  },
  {
   "cell_type": "code",
   "execution_count": 111,
   "id": "72a743c3",
   "metadata": {},
   "outputs": [
    {
     "name": "stdout",
     "output_type": "stream",
     "text": [
      "no_of_secs_in_30days: 2592000\n",
      "no_of_secs_in_24hrs: 86400\n",
      "no_of_secs_in_60minute: 3600\n"
     ]
    }
   ],
   "source": [
    "#CONTROL STRUCTURE #11.minute ,seconds ,hours\n",
    "\n",
    "month=30                          #days\n",
    "day=24                            #hrs\n",
    "hour=60                            #min\n",
    "minute=60                              #sec\n",
    "no_of_secs_in_30days=30*24*60*60\n",
    "print(\"no_of_secs_in_30days:\",  no_of_secs_in_30days)\n",
    "                                 #no of sec in 24 hrs\n",
    "no_of_secs_in_24hrs=24*60*60\n",
    "print(\"no_of_secs_in_24hrs:\",  no_of_secs_in_24hrs )\n",
    "                                      #no_of_secs_in_60min\n",
    "no_of_secs_in_60minute=60*60\n",
    "print(\"no_of_secs_in_60minute:\",  no_of_secs_in_60minute)\n"
   ]
  },
  {
   "cell_type": "code",
   "execution_count": 4,
   "id": "2d1d6611",
   "metadata": {},
   "outputs": [
    {
     "name": "stdout",
     "output_type": "stream",
     "text": [
      "shelly\n",
      "Enter your weight: 65\n",
      "name of the person :  shelly\n",
      "Your weight on the moon will be:  10.747196738022426\n"
     ]
    }
   ],
   "source": [
    "# 13.weight in moon\n",
    "dic = {'john':'45','shelly':'65','mary':'55'}\n",
    "name_person = str(input())\n",
    "weight = int(input('Enter your weight: '))\n",
    "moon_weight = lambda x:x*1.622/9.81\n",
    "print('name of the person : ', name_person)\n",
    "print('Your weight on the moon will be: ',moon_weight(weight))\n",
    "\n"
   ]
  },
  {
   "cell_type": "code",
   "execution_count": 4,
   "id": "02b4b30e",
   "metadata": {},
   "outputs": [
    {
     "data": {
      "text/plain": [
       "{'square': <function __main__.<lambda>(x)>,\n",
       " 'cube': <function __main__.<lambda>(x)>,\n",
       " 'squareroot': <function __main__.<lambda>(x)>}"
      ]
     },
     "execution_count": 4,
     "metadata": {},
     "output_type": "execute_result"
    }
   ],
   "source": [
    "#11.lambda\n",
    "\n",
    "dict={'square':lambda x :x*x,'cube':lambda x:x*x*x,'squareroot':lambda x:x**0.5}\n",
    "dict"
   ]
  },
  {
   "cell_type": "code",
   "execution_count": 5,
   "id": "5c3bcea7",
   "metadata": {},
   "outputs": [
    {
     "name": "stdout",
     "output_type": "stream",
     "text": [
      "Enter a number: 4\n",
      "square of 4.0 is 16.0\n",
      "cube of 4.0 is 64.0\n",
      "squareroot of 4.0 is 2.0\n"
     ]
    }
   ],
   "source": [
    "value=float(input(\"Enter a number: \"))\n",
    "for operation,func in dict.items():\n",
    "    result=func(value)\n",
    "    print(f'{operation} of {value} is {result}')\n"
   ]
  },
  {
   "cell_type": "code",
   "execution_count": 6,
   "id": "825e2c5c",
   "metadata": {},
   "outputs": [
    {
     "name": "stdout",
     "output_type": "stream",
     "text": [
      "sum of each output: 82.0\n"
     ]
    }
   ],
   "source": [
    "sum=0\n",
    "for operation,func in dict.items():\n",
    "    result=func(value)\n",
    "    sum+=result\n",
    "print(\"sum of each output:\",sum)\n"
   ]
  },
  {
   "cell_type": "code",
   "execution_count": null,
   "id": "36d1943a",
   "metadata": {},
   "outputs": [],
   "source": []
  }
 ],
 "metadata": {
  "kernelspec": {
   "display_name": "Python 3 (ipykernel)",
   "language": "python",
   "name": "python3"
  },
  "language_info": {
   "codemirror_mode": {
    "name": "ipython",
    "version": 3
   },
   "file_extension": ".py",
   "mimetype": "text/x-python",
   "name": "python",
   "nbconvert_exporter": "python",
   "pygments_lexer": "ipython3",
   "version": "3.11.4"
  }
 },
 "nbformat": 4,
 "nbformat_minor": 5
}
