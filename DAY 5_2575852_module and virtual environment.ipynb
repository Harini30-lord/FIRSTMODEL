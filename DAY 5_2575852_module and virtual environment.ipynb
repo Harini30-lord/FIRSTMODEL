{
 "cells": [
  {
   "cell_type": "markdown",
   "id": "db79ff67",
   "metadata": {},
   "source": [
    "# MODULES AND VIRTUAL ENVIRONMENTS\n",
    "\n",
    "1.import modules and error handling"
   ]
  },
  {
   "cell_type": "code",
   "execution_count": 1,
   "id": "4e3e6291",
   "metadata": {},
   "outputs": [],
   "source": [
    "import math\n",
    "import random\n"
   ]
  },
  {
   "cell_type": "code",
   "execution_count": 2,
   "id": "f669aa51",
   "metadata": {},
   "outputs": [],
   "source": [
    "                                                                     # Custom module definition\n",
    "def custom_function():\n",
    "    print(\"This is a custom function from custom_module.py\")\n"
   ]
  },
  {
   "cell_type": "code",
   "execution_count": 3,
   "id": "fd09cf4f",
   "metadata": {},
   "outputs": [
    {
     "name": "stdout",
     "output_type": "stream",
     "text": [
      "Using modules:\n",
      "Square root of 25: 5.0\n",
      "Random number between 1 and 10: 2\n"
     ]
    }
   ],
   "source": [
    "                                                                          # Use the imported modules\n",
    "print(\"Using modules:\")\n",
    "print(\"Square root of 25:\", math.sqrt(25))\n",
    " print(\"Random number between 1 and 10:\", random.randint(1, 10))\n"
   ]
  },
  {
   "cell_type": "code",
   "execution_count": 4,
   "id": "11de59ca",
   "metadata": {},
   "outputs": [
    {
     "name": "stdout",
     "output_type": "stream",
     "text": [
      "\n",
      "Using custom_module:\n",
      "This is a custom function from custom_module.py\n"
     ]
    }
   ],
   "source": [
    "                                                         # Use the custom module\n",
    "print(\"\\nUsing custom_module:\")\n",
    "custom_function()\n"
   ]
  },
  {
   "cell_type": "code",
   "execution_count": 5,
   "id": "86ff9493",
   "metadata": {},
   "outputs": [
    {
     "name": "stdout",
     "output_type": "stream",
     "text": [
      "\n",
      "Error importing module: No module named 'non_existent_module'\n",
      "Error using module function: module 'math' has no attribute 'non_existent_function'\n"
     ]
    }
   ],
   "source": [
    "                                            #implement the error handling for missing modules\n",
    "try:\n",
    "    import non_existent_module\n",
    "except ImportError as e:\n",
    "    print(\"\\nError importing module:\", e)\n",
    "\n",
    "try:\n",
    "    math.non_existent_function()\n",
    "except AttributeError as e:\n",
    "    print(\"Error using module function:\", e)\n"
   ]
  },
  {
   "cell_type": "code",
   "execution_count": 1,
   "id": "514b7cdd",
   "metadata": {},
   "outputs": [
    {
     "name": "stdout",
     "output_type": "stream",
     "text": [
      "<mysql.connector.connection_cext.CMySQLConnection object at 0x000001B92BAD9F10>\n"
     ]
    }
   ],
   "source": [
    "import mysql.connector\n",
    "\n",
    "\n",
    "conn=mysql.connector.connect(host=\"127.0.0.1\",user=\"root\",password=\"Godsave@00300820\",database=\"mla\")\n",
    "\n",
    "print(conn)\n"
   ]
  },
  {
   "cell_type": "code",
   "execution_count": 2,
   "id": "d0ca5b07",
   "metadata": {},
   "outputs": [],
   "source": [
    "curs=conn.cursor()"
   ]
  },
  {
   "cell_type": "code",
   "execution_count": 3,
   "id": "366730d3",
   "metadata": {},
   "outputs": [
    {
     "name": "stdout",
     "output_type": "stream",
     "text": [
      "('company',)\n",
      "('employee',)\n",
      "('information_schema',)\n",
      "('invest',)\n",
      "('mla',)\n",
      "('mysql',)\n",
      "('performance_schema',)\n",
      "('procedure',)\n",
      "('sakila',)\n",
      "('sys',)\n",
      "('task',)\n",
      "('trial',)\n",
      "('world',)\n"
     ]
    }
   ],
   "source": [
    "curs.execute(\"show databases\")\n",
    "for i in curs:\n",
    "    print(i)\n",
    "\n",
    "    \n",
    "    "
   ]
  },
  {
   "cell_type": "code",
   "execution_count": 4,
   "id": "205eb29b",
   "metadata": {},
   "outputs": [],
   "source": [
    "curs=conn.cursor()\n",
    "curs.execute(\"create table emptable(emp_id int primary key,name varchar(20),salary float,department varchar(30),hiredate date)\")\n"
   ]
  },
  {
   "cell_type": "code",
   "execution_count": 5,
   "id": "eaf5884d",
   "metadata": {},
   "outputs": [
    {
     "name": "stdout",
     "output_type": "stream",
     "text": [
      "('customer',)\n",
      "('employeeinfo',)\n",
      "('emptable',)\n"
     ]
    }
   ],
   "source": [
    "curs.execute(\"show tables\")\n",
    "for i in curs:\n",
    "    print (i)\n"
   ]
  },
  {
   "cell_type": "code",
   "execution_count": 6,
   "id": "63f9be95",
   "metadata": {},
   "outputs": [
    {
     "name": "stdout",
     "output_type": "stream",
     "text": [
      "1 is inserted\n"
     ]
    }
   ],
   "source": [
    "cus_insert=\"insert into emptable(emp_id,name,salary,department,hiredate)VALUES(378,'mowli',20000,'cse',STR_TO_DATE('16/08/2000', '%m/%d/%Y'))\"\n",
    "curs.execute(cus_insert)\n",
    "conn.commit()\n",
    "print(curs.rowcount,\"is inserted\")\n",
    "\n"
   ]
  },
  {
   "cell_type": "code",
   "execution_count": 9,
   "id": "b9498354",
   "metadata": {},
   "outputs": [
    {
     "name": "stdout",
     "output_type": "stream",
     "text": [
      "1 is inserted\n"
     ]
    }
   ],
   "source": [
    "cus_insert=\"insert into emptable(emp_id,name,salary,department,hiredate)VALUES(456,'shinchan',30000,'cse',STR_TO_DATE('10/08/2005', '%m/%d/%Y'))\"\n",
    "curs.execute(cus_insert)\n",
    "conn.commit()\n",
    "print(curs.rowcount,\"is inserted\")\n"
   ]
  },
  {
   "cell_type": "code",
   "execution_count": 10,
   "id": "f7f2e2f5",
   "metadata": {},
   "outputs": [
    {
     "name": "stdout",
     "output_type": "stream",
     "text": [
      "1 is inserted\n"
     ]
    }
   ],
   "source": [
    "cus_insert=\"insert into emptable(emp_id,name,salary,department,hiredate)VALUES(675,'jackiechan',10000,'IT',STR_TO_DATE('11/08/2005', '%m/%d/%Y'))\"\n",
    "curs.execute(cus_insert)\n",
    "conn.commit()\n",
    "print(curs.rowcount,\"is inserted\")\n"
   ]
  },
  {
   "cell_type": "code",
   "execution_count": 11,
   "id": "b1bf3174",
   "metadata": {},
   "outputs": [
    {
     "name": "stdout",
     "output_type": "stream",
     "text": [
      "1 is inserted\n"
     ]
    }
   ],
   "source": [
    "cus_insert=\"insert into emptable(emp_id,name,salary,department,hiredate)VALUES(987,'simon',60000,'IT',STR_TO_DATE('11/08/2008', '%m/%d/%Y'))\"\n",
    "curs.execute(cus_insert)\n",
    "conn.commit()\n",
    "print(curs.rowcount,\"is inserted\")\n"
   ]
  },
  {
   "cell_type": "code",
   "execution_count": 12,
   "id": "15ef8ecb",
   "metadata": {},
   "outputs": [
    {
     "name": "stdout",
     "output_type": "stream",
     "text": [
      "The row is updated\n"
     ]
    }
   ],
   "source": [
    "cus_update=\"update emptable set department='it' WHERE name='daphne'\"\n",
    "curs.execute(cus_update)\n",
    "conn.commit()\n",
    "print(\"The row is updated\")\n"
   ]
  },
  {
   "cell_type": "code",
   "execution_count": 13,
   "id": "719066f5",
   "metadata": {},
   "outputs": [
    {
     "name": "stdout",
     "output_type": "stream",
     "text": [
      "The row is updated\n"
     ]
    }
   ],
   "source": [
    "cus_update=\"update emptable set department='ece' WHERE name='sam'\"\n",
    "curs.execute(cus_update)\n",
    "conn.commit()\n",
    "print(\"The row is updated\")\n"
   ]
  },
  {
   "cell_type": "code",
   "execution_count": 14,
   "id": "9c520db8",
   "metadata": {},
   "outputs": [],
   "source": [
    "curs.execute(\"create table accord(id int,name varchar(20),quantity int)\")  # create the table accord\n"
   ]
  },
  {
   "cell_type": "code",
   "execution_count": 15,
   "id": "42dcf408",
   "metadata": {},
   "outputs": [
    {
     "name": "stdout",
     "output_type": "stream",
     "text": [
      "5 is inserted\n"
     ]
    }
   ],
   "source": [
    "cus_insert=\"insert into accord(id,name,quantity)VALUES(%s,%s,%s)\"\n",
    "cus_values=[(13,'ocean spray',5),(18,'orange',8),(45,'leela palace',24),(7,'imperial',9),(17,'skynewyork',27)]\n",
    "curs.executemany(cus_insert,cus_values)\n",
    "conn.commit()\n",
    "print(curs.rowcount,\"is inserted\")               #insert into accord\n"
   ]
  },
  {
   "cell_type": "code",
   "execution_count": 16,
   "id": "5c5e7270",
   "metadata": {},
   "outputs": [
    {
     "name": "stdout",
     "output_type": "stream",
     "text": [
      "(13, 'ocean spray', 5)\n",
      "(18, 'orange', 8)\n",
      "(45, 'leela palace', 24)\n",
      "(7, 'imperial', 9)\n",
      "(17, 'skynewyork', 27)\n"
     ]
    }
   ],
   "source": [
    "curs.execute(\"select *from accord\")         # execute the accord desc\n",
    "for i in curs:\n",
    "    print(i)\n"
   ]
  },
  {
   "cell_type": "code",
   "execution_count": 20,
   "id": "0370206e",
   "metadata": {},
   "outputs": [],
   "source": [
    "curs.execute(\"select quantity from accord\")   #retrieve the data from table\n",
    "records = curs.fetchall()\n",
    "    "
   ]
  },
  {
   "cell_type": "code",
   "execution_count": 22,
   "id": "70f70f9d",
   "metadata": {},
   "outputs": [
    {
     "name": "stdout",
     "output_type": "stream",
     "text": [
      "Total Quantity: 73\n"
     ]
    }
   ],
   "source": [
    "total_quantity = sum(record[0] for record in records)  #print the total quantity of table\n",
    "print(\"Total Quantity:\", total_quantity)\n"
   ]
  },
  {
   "cell_type": "code",
   "execution_count": 23,
   "id": "ac02bbc7",
   "metadata": {},
   "outputs": [],
   "source": [
    "curs.execute(\"update accord set quantity = quantity * 2\")   # dooubling its value\n"
   ]
  },
  {
   "cell_type": "code",
   "execution_count": 28,
   "id": "53bbe9ca",
   "metadata": {},
   "outputs": [
    {
     "name": "stdout",
     "output_type": "stream",
     "text": [
      "<mysql.connector.connection_cext.CMySQLConnection object at 0x000001B92D2B7190>\n"
     ]
    }
   ],
   "source": [
    "import mysql.connector\n",
    "\n",
    "\n",
    "conn=mysql.connector.connect(host=\"127.0.0.1\",user=\"root\",password=\"Godsave@00300820\",database=\"inventory\")\n",
    "\n",
    "print(conn)\n"
   ]
  },
  {
   "cell_type": "code",
   "execution_count": 31,
   "id": "9f8a9e4a",
   "metadata": {},
   "outputs": [],
   "source": [
    "curs=conn.cursor()"
   ]
  },
  {
   "cell_type": "code",
   "execution_count": 32,
   "id": "d53be979",
   "metadata": {},
   "outputs": [
    {
     "name": "stdout",
     "output_type": "stream",
     "text": [
      "('company',)\n",
      "('employee',)\n",
      "('information_schema',)\n",
      "('inventory',)\n",
      "('invest',)\n",
      "('mla',)\n",
      "('mysql',)\n",
      "('performance_schema',)\n",
      "('procedure',)\n",
      "('sakila',)\n",
      "('sys',)\n",
      "('task',)\n",
      "('trial',)\n",
      "('world',)\n"
     ]
    }
   ],
   "source": [
    "curs.execute(\"show databases\")\n",
    "for i in curs:\n",
    "    print(i)\n"
   ]
  },
  {
   "cell_type": "code",
   "execution_count": 34,
   "id": "7f2905d5",
   "metadata": {},
   "outputs": [],
   "source": [
    "curs=conn.cursor()\n",
    "curs.execute(\"create table purchase(id int auto_increment primary key,product_name varchar(300),quantity int)\")\n"
   ]
  },
  {
   "cell_type": "code",
   "execution_count": 35,
   "id": "265ab3b1",
   "metadata": {},
   "outputs": [],
   "source": [
    "curs=conn.cursor()\n",
    "curs.execute(\"create table sale(id int auto_increment primary key,product_name varchar(255),quantity int)\")\n"
   ]
  },
  {
   "cell_type": "code",
   "execution_count": 36,
   "id": "d13b3788",
   "metadata": {},
   "outputs": [],
   "source": [
    "curs=conn.cursor()\n",
    "curs.execute(\"create table invent(id int auto_increment primary key,product_name varchar(300),availabe_quantity int)\")"
   ]
  },
  {
   "cell_type": "code",
   "execution_count": 37,
   "id": "4992aadb",
   "metadata": {},
   "outputs": [
    {
     "name": "stdout",
     "output_type": "stream",
     "text": [
      "('invent',)\n",
      "('inventory',)\n",
      "('purchase',)\n",
      "('purchases',)\n",
      "('sale',)\n",
      "('sales',)\n"
     ]
    }
   ],
   "source": [
    "curs.execute(\"show tacus_insert=\"insert into purchase(id,product_name,quantity)VALUES('76','dior','20000')\"\n",
    "curs.execute(cus_insert)\n",
    "conn.commit()\n",
    "print(curs.rowcount,\"is inserted\")\n",
    "\n",
    "bles\")\n",
    "for i in curs:\n",
    "    print (i)"
   ]
  },
  {
   "cell_type": "code",
   "execution_count": 39,
   "id": "3bd383fb",
   "metadata": {},
   "outputs": [
    {
     "name": "stdout",
     "output_type": "stream",
     "text": [
      "1 is inserted\n"
     ]
    }
   ],
   "source": [
    "cus_insert=\"insert into purchase(id,product_name,quantity)VALUES('76','dior','20000')\"\n",
    "curs.execute(cus_insert)\n",
    "conn.commit()\n",
    "print(curs.rowcount,\"is inserted\")\n",
    "\n"
   ]
  },
  {
   "cell_type": "code",
   "execution_count": 40,
   "id": "4316e119",
   "metadata": {},
   "outputs": [
    {
     "name": "stdout",
     "output_type": "stream",
     "text": [
      "1 is inserted\n"
     ]
    }
   ],
   "source": [
    "cus_insert=\"insert into purchase(id,product_name,quantity)VALUES('78','gucci','30000')\"\n",
    "curs.execute(cus_insert)\n",
    "conn.commit()\n",
    "print(curs.rowcount,\"is inserted\")\n",
    "\n"
   ]
  },
  {
   "cell_type": "code",
   "execution_count": 41,
   "id": "7c6da6d5",
   "metadata": {},
   "outputs": [
    {
     "name": "stdout",
     "output_type": "stream",
     "text": [
      "1 is inserted\n"
     ]
    }
   ],
   "source": [
    "cus_insert=\"insert into purchase(id,product_name,quantity)VALUES('79','prada','10000')\"\n",
    "curs.execute(cus_insert)\n",
    "conn.commit()\n",
    "print(curs.rowcount,\"is inserted\")\n",
    "\n"
   ]
  },
  {
   "cell_type": "code",
   "execution_count": 42,
   "id": "077c02ce",
   "metadata": {},
   "outputs": [
    {
     "name": "stdout",
     "output_type": "stream",
     "text": [
      "1 is inserted\n"
     ]
    }
   ],
   "source": [
    "cus_insert=\"insert into sale(id,product_name,quantity)VALUES('35','gucci','1000')\"\n",
    "curs.execute(cus_insert)\n",
    "conn.commit()\n",
    "print(curs.rowcount,\"is inserted\")\n"
   ]
  },
  {
   "cell_type": "code",
   "execution_count": 43,
   "id": "468a25ec",
   "metadata": {},
   "outputs": [
    {
     "name": "stdout",
     "output_type": "stream",
     "text": [
      "1 is inserted\n"
     ]
    }
   ],
   "source": [
    "cus_insert=\"insert into sale(id,product_name,quantity)VALUES('36','dior','2000')\"\n",
    "curs.execute(cus_insert)\n",
    "conn.commit()\n",
    "print(curs.rowcount,\"is inserted\")"
   ]
  },
  {
   "cell_type": "code",
   "execution_count": 44,
   "id": "03c4b265",
   "metadata": {},
   "outputs": [
    {
     "name": "stdout",
     "output_type": "stream",
     "text": [
      "1 is inserted\n"
     ]
    }
   ],
   "source": [
    "cus_insert=\"insert into sale(id,product_name,quantity)VALUES('37','dior','8000')\"\n",
    "curs.execute(cus_insert)\n",
    "conn.commit()\n",
    "print(curs.rowcount,\"is inserted\")"
   ]
  },
  {
   "cell_type": "code",
   "execution_count": 49,
   "id": "bfc67653",
   "metadata": {},
   "outputs": [
    {
     "name": "stdout",
     "output_type": "stream",
     "text": [
      "1 is inserted\n"
     ]
    }
   ],
   "source": [
    "cus_insert=\"insert into invent(id,product_name,availabe_quantity)VALUES('38','calvin klein','8')\"\n",
    "curs.execute(cus_insert)\n",
    "conn.commit()\n",
    "print(curs.rowcount,\"is inserted\")"
   ]
  },
  {
   "cell_type": "code",
   "execution_count": 50,
   "id": "80e4eccf",
   "metadata": {},
   "outputs": [
    {
     "name": "stdout",
     "output_type": "stream",
     "text": [
      "1 is inserted\n"
     ]
    }
   ],
   "source": [
    "cus_insert=\"insert into invent(id,product_name,availabe_quantity)VALUES('39','hm','9')\"\n",
    "curs.execute(cus_insert)\n",
    "conn.commit()\n",
    "print(curs.rowcount,\"is inserted\")"
   ]
  },
  {
   "cell_type": "code",
   "execution_count": 53,
   "id": "5f42ec06",
   "metadata": {},
   "outputs": [
    {
     "name": "stdout",
     "output_type": "stream",
     "text": [
      "The row is updated\n"
     ]
    }
   ],
   "source": [
    "cus_update=\"update inventory set id='20' WHERE product_name='prada'\"\n",
    "curs.execute(cus_update)\n",
    "conn.commit()\n",
    "print(\"The row is updated\")\n"
   ]
  },
  {
   "cell_type": "code",
   "execution_count": 56,
   "id": "4f43b9d2",
   "metadata": {},
   "outputs": [
    {
     "name": "stdout",
     "output_type": "stream",
     "text": [
      "The row is updated\n"
     ]
    }
   ],
   "source": [
    "cus_update=\"update inventory set id='37' WHERE product_name='daphne'\"\n",
    "curs.execute(cus_update)\n",
    "conn.commit()\n",
    "print(\"The row is updated\")\n"
   ]
  },
  {
   "cell_type": "code",
   "execution_count": 64,
   "id": "0ff82e0b",
   "metadata": {},
   "outputs": [],
   "source": [
    "curs.execute(\"select purchase.id,purchase.product_name,purchase.quantity from purchase inner join sale on purchase.id=sale.id\")\n",
    "for i in curs:\n",
    "    print(i)\n"
   ]
  },
  {
   "cell_type": "code",
   "execution_count": 65,
   "id": "0db8104f",
   "metadata": {},
   "outputs": [
    {
     "name": "stdout",
     "output_type": "stream",
     "text": [
      "<mysql.connector.connection_cext.CMySQLConnection object at 0x000001B92D606010>\n"
     ]
    }
   ],
   "source": [
    "import mysql.connector\n",
    "\n",
    "\n",
    "conn=mysql.connector.connect(host=\"127.0.0.1\",user=\"root\",password=\"Godsave@00300820\",database=\"customernew\")\n",
    "\n",
    "print(conn)\n"
   ]
  },
  {
   "cell_type": "code",
   "execution_count": 66,
   "id": "09efe8a5",
   "metadata": {},
   "outputs": [],
   "source": [
    "curs=conn.cursor()"
   ]
  },
  {
   "cell_type": "code",
   "execution_count": 67,
   "id": "04827198",
   "metadata": {},
   "outputs": [
    {
     "name": "stdout",
     "output_type": "stream",
     "text": [
      "('company',)\n",
      "('customernew',)\n",
      "('employee',)\n",
      "('information_schema',)\n",
      "('inventory',)\n",
      "('invest',)\n",
      "('mla',)\n",
      "('mysql',)\n",
      "('performance_schema',)\n",
      "('procedure',)\n",
      "('sakila',)\n",
      "('sys',)\n",
      "('task',)\n",
      "('trial',)\n",
      "('world',)\n"
     ]
    }
   ],
   "source": [
    "curs.execute(\"show databases\")\n",
    "for i in curs:\n",
    "    print(i)\n"
   ]
  },
  {
   "cell_type": "code",
   "execution_count": 68,
   "id": "562401ca",
   "metadata": {},
   "outputs": [],
   "source": [
    "curs.execute(\"show tables\")\n",
    "for i in curs:\n",
    "    print (i)\n",
    "\n"
   ]
  },
  {
   "cell_type": "code",
   "execution_count": 72,
   "id": "66e2e748",
   "metadata": {},
   "outputs": [
    {
     "name": "stdout",
     "output_type": "stream",
     "text": [
      "1 is inserted\n"
     ]
    }
   ],
   "source": [
    "cus_insert=\"insert into customers(customer_id,name,address,phone)VALUES(123,'shinchan','new avenue',123456789)\"\n",
    "curs.execute(cus_insert)\n",
    "conn.commit()\n",
    "print(curs.rowcount,\"is inserted\")"
   ]
  },
  {
   "cell_type": "code",
   "execution_count": 73,
   "id": "22af2de1",
   "metadata": {},
   "outputs": [
    {
     "name": "stdout",
     "output_type": "stream",
     "text": [
      "1 is inserted\n"
     ]
    }
   ],
   "source": [
    "cus_insert=\"insert into customers(customer_id,name,address,phone)VALUES(333,'leo','old street',111111111)\"\n",
    "curs.execute(cus_insert)\n",
    "conn.commit()\n",
    "print(curs.rowcount,\"is inserted\")"
   ]
  },
  {
   "cell_type": "code",
   "execution_count": 74,
   "id": "fbcde836",
   "metadata": {},
   "outputs": [
    {
     "name": "stdout",
     "output_type": "stream",
     "text": [
      "1 is inserted\n"
     ]
    }
   ],
   "source": [
    "cus_insert=\"insert into customers(customer_id,name,address,phone)VALUES(456,'john','right street',1178951111)\"\n",
    "curs.execute(cus_insert)\n",
    "conn.commit()\n",
    "print(curs.rowcount,\"is inserted\")"
   ]
  },
  {
   "cell_type": "code",
   "execution_count": 75,
   "id": "db4aa149",
   "metadata": {},
   "outputs": [
    {
     "name": "stdout",
     "output_type": "stream",
     "text": [
      "1 is inserted\n"
     ]
    }
   ],
   "source": [
    "cus_insert=\"insert into products(product_id,name,price,quantity)VALUES(1,'shinchan',200,4)\"\n",
    "curs.execute(cus_insert)\n",
    "conn.commit()\n",
    "print(curs.rowcount,\"is inserted\")"
   ]
  },
  {
   "cell_type": "code",
   "execution_count": 76,
   "id": "531135c9",
   "metadata": {},
   "outputs": [
    {
     "name": "stdout",
     "output_type": "stream",
     "text": [
      "1 is inserted\n"
     ]
    }
   ],
   "source": [
    "\n",
    "cus_insert=\"insert into products(product_id,name,price,quantity)VALUES(2,'foxtale',349,3)\"\n",
    "curs.execute(cus_insert)\n",
    "conn.commit()\n",
    "print(curs.rowcount,\"is inserted\")"
   ]
  },
  {
   "cell_type": "code",
   "execution_count": 77,
   "id": "796633f1",
   "metadata": {},
   "outputs": [
    {
     "name": "stdout",
     "output_type": "stream",
     "text": [
      "1 is inserted\n"
     ]
    }
   ],
   "source": [
    "cus_insert=\"insert into products(product_id,name,price,quantity)VALUES(4,'rare beauty',500,7)\"\n",
    "curs.execute(cus_insert)\n",
    "conn.commit()\n",
    "print(curs.rowcount,\"is inserted\")"
   ]
  },
  {
   "cell_type": "code",
   "execution_count": 87,
   "id": "646199a9",
   "metadata": {},
   "outputs": [
    {
     "name": "stdout",
     "output_type": "stream",
     "text": [
      "1 is inserted\n"
     ]
    }
   ],
   "source": [
    "cus_insert=\"insert into orders(order_id,customer_id)VALUES('4','456')\"\n",
    "curs.execute(cus_insert)\n",
    "conn.commit()\n",
    "print(curs.rowcount,\"is inserted\")"
   ]
  },
  {
   "cell_type": "code",
   "execution_count": 83,
   "id": "db94631e",
   "metadata": {},
   "outputs": [],
   "source": [
    "curs.execute(\"create table ordered(order_id int primary key,customer_id int,foreign key(customer_id)references customers(customer_id))\")\n"
   ]
  },
  {
   "cell_type": "code",
   "execution_count": 88,
   "id": "53e0aac2",
   "metadata": {},
   "outputs": [],
   "source": [
    "def display_products(curs):\n",
    "    curs.execute(\"SELECT * FROM Products\")\n",
    "    products = curs.fetchall()\n",
    "    \n",
    "    print(\"Available Products:\")\n",
    "    for product in products:\n",
    "        print(f\"{product[0]}. {product[1]} - ${product[3]} (Qty: {product[4]})\")\n",
    "\n"
   ]
  },
  {
   "cell_type": "code",
   "execution_count": 89,
   "id": "a3caaed6",
   "metadata": {},
   "outputs": [],
   "source": [
    "# 3. Function to place a new order\n",
    "def place_order(curs, customer_id):\n",
    "    display_products(curs)\n",
    "    \n",
    "    # Prompt the customer for product selection\n",
    "    product_id = int(input(\"Enter the product ID to purchase: \"))\n",
    "    quantity = int(input(\"Enter the quantity to purchase: \"))\n",
    "    \n",
    "    # Check product availability\n",
    "    curs.execute(\"SELECT quantity, price FROM Products WHERE product_id = %s\", (product_id,))\n",
    "    product = cursor.fetchone()\n",
    "    \n",
    "    if product is None:\n",
    "        print(\"Product not found.\")\n",
    "        return\n",
    "    \n",
    "    available_quantity, price = product\n",
    "    \n",
    "    if quantity > available_quantity:\n",
    "        print(\"Insufficient quantity available.\")\n",
    "        return"
   ]
  },
  {
   "cell_type": "code",
   "execution_count": 91,
   "id": "cb46ddaf",
   "metadata": {},
   "outputs": [
    {
     "name": "stdout",
     "output_type": "stream",
     "text": [
      "Error: 2005 (HY000): Unknown MySQL server host 'root' (11001)\n",
      "Failed to connect to the database.\n"
     ]
    }
   ],
   "source": [
    "import mysql.connector\n",
    "\n",
    "# Function to establish a database connection\n",
    "def connect_to_database():\n",
    "    try:\n",
    "        connection = mysql.connector.connect(\n",
    "            host=\"root\",\n",
    "            user=\"127.0.0.1\",\n",
    "            password=\"Godsave@00300820\",\n",
    "            database=\"customernew\"\n",
    "        )\n",
    "        if connection.is_connected():\n",
    "            return connection\n",
    "        else:\n",
    "            return None\n",
    "    except mysql.connector.Error as err:\n",
    "        print(\"Error:\", err)\n",
    "        return None\n",
    "\n",
    "# Function to display available products\n",
    "def display_products(curs):\n",
    "    curs.execute(\"SELECT * FROM Products\")\n",
    "    products = curs.fetchall()\n",
    "    \n",
    "    print(\"Available Products:\")\n",
    "    for product in products:\n",
    "        print(f\"{product[0]}. {product[1]} - ${product[3]} (Qty: {product[4]})\")\n",
    "\n",
    "# Function to place a new order\n",
    "def place_order(curs, customer_id):\n",
    "    display_products(curs)\n",
    "    \n",
    "    # Prompt the customer for product selection\n",
    "    product_id = int(input(\"Enter the product ID to purchase: \"))\n",
    "    quantity = int(input(\"Enter the quantity to purchase: \"))\n",
    "    \n",
    "    # Check product availability\n",
    "    curs.execute(\"SELECT quantity FROM Products WHERE product_id = %s\", (product_id,))\n",
    "    product = curs.fetchone()\n",
    "    if product is None or quantity > product[0]:\n",
    "        print(\"Product not available or insufficient quantity.\")\n",
    "        return\n",
    "    \n",
    "    # Calculate total cost\n",
    "    curs.execute(\"SELECT price FROM Products WHERE product_id = %s\", (product_id,))\n",
    "    price = curs.fetchone()[0]\n",
    "    cost = price * quantity\n",
    "    \n",
    "    # Insert order into Orders table\n",
    "    curs.execute(\"INSERT INTO Orders (customer_id) VALUES (%s)\", (customer_id,))\n",
    "    order_id = curs.lastrowid\n",
    "    \n",
    "    \n",
    "    # Update product quantity\n",
    "    new_quantity = product[0] - quantity\n",
    "    curs.execute(\"UPDATE Products SET quantity = %s WHERE product_id = %s\", (new_quantity, product_id))\n",
    "    \n",
    "    print(\"Order placed successfully!\")\n",
    "\n",
    "if __name__ == \"__main__\":\n",
    "    # Connect to the database\n",
    "    connection = connect_to_database()\n",
    "    if connection is None:\n",
    "        print(\"Failed to connect to the database.\")\n",
    "    else:\n",
    "        try:\n",
    "            curs = connection.curs()\n",
    "            \n",
    "            # Prompt the user for customer information (you can extend this part)\n",
    "            customer_id = int(input(\"Enter your customer ID: \"))\n",
    "            \n",
    "            # Place a new order\n",
    "            place_order(curs, customer_id)\n",
    "            \n",
    "            # Commit changes and close the connection\n",
    "            connection.commit()\n",
    "            curs.close()\n",
    "            connection.close()\n",
    "        except Exception as e:\n",
    "            print(\"Error:\", e)\n"
   ]
  },
  {
   "cell_type": "code",
   "execution_count": null,
   "id": "a3935b4e",
   "metadata": {},
   "outputs": [],
   "source": [
    "#3.module dependencies\n",
    "\n",
    "import subprocess\n",
    "\n",
    "def install_dependencies():\n",
    "    try:\n",
    "        subprocess.call([\"pip\", \"install\", \"-r\", \"requirements.txt\"])\n",
    "        print(\"Dependencies installed successfully.\")\n",
    "    except Exception as e:\n",
    "        print(f\"Error installing dependencies: {e}\")\n",
    "\n",
    "install_dependencies()\n",
    "    "
   ]
  },
  {
   "cell_type": "code",
   "execution_count": null,
   "id": "7231dade",
   "metadata": {},
   "outputs": [],
   "source": [
    "#2.create virtual environment\n",
    "\n",
    "import subprocess\n",
    "import sys\n",
    "import os\n",
    "\n",
    "def create__virtual_env(env_name):\n",
    "    try:\n",
    "        subprocess.run([sys.executable, '-m', 'venv', env_name])\n",
    "        print(f\"Virtual environment '{env_name}' created successfully.\")\n",
    "    except subprocess.CalledProcessError as e:\n",
    "        print(f\"Error: Failed to create the virtual environment. {e}\")\n",
    "\n",
    "def activate__virtual_env(env_name):\n",
    "    try:\n",
    "        activate_script = os.path.join(env_name, 'Scripts' if os.name == 'nt' else 'bin', 'activate')\n",
    "        subprocess.run([activate_script], shell=True)\n",
    "        print(f\"Activated virtual environment '{env_name}'.\")\n",
    "    except FileNotFoundError:\n",
    "        print(f\"Error: Virtual environment '{env_name}' not found.\")\n",
    "\n",
    "def deactivate__virtual_env():\n",
    "    try:\n",
    "        subprocess.run(['deactivate'], shell=True)\n",
    "        print(\"Deactivated the virtual environment.\")\n",
    "    except subprocess.CalledProcessError as e:\n",
    "        print(f\"Error: Failed to deactivate the virtual environment. {e}\")\n",
    "\n",
    "def install_package(env_name, package_name):\n",
    "    try:\n",
    "        subprocess.run([f'{env_name}/bin/pip', 'install', package_name])\n",
    "        print(f\"Installed '{package_name}' in '{env_name}'.\")\n",
    "    except subprocess.CalledProcessError as e:\n",
    "        print(f\"Error: Failed to install the package. {e}\")\n",
    "\n",
    "def upgrade_package(env_name, package_name):\n",
    "    try:\n",
    "        subprocess.run([f'{env_name}/bin/pip', 'install', '--upgrade', package_name])\n",
    "        print(f\"Upgraded '{package_name}' in '{env_name}'.\")\n",
    "    except subprocess.CalledProcessError as e:\n",
    "        print(f\"Error: Failed to upgrade the package. {e}\")\n",
    "\n",
    "def uninstall_package(env_name, package_name):\n",
    "    try:\n",
    "        subprocess.run([f'{env_name}/bin/pip', 'uninstall', '-y', package_name])\n",
    "        print(f\"Uninstalled '{package_name}' from '{env_name}'.\")\n",
    "    except subprocess.CalledProcessError as e:\n",
    "        print(f\"Error: Failed to uninstall the package. {e}\")\n",
    "\n",
    "def list_installed_packages(env_name):\n",
    "    try:\n",
    "        result = subprocess.run([f'{env_name}/bin/pip', 'list'], capture_output=True, text=True)\n",
    "        print(f\"Installed packages in '{env_name}':\\n{result.stdout}\")\n",
    "    except subprocess.CalledProcessError as e:\n",
    "        print(f\"Error: Failed to list installed packages. {e}\")\n",
    "\n",
    "\n",
    "env_name = \"_virtual_env\"\n",
    "package_name = \"numpy\"\n",
    "\n",
    "create__virtual_env(env_name)\n",
    "activate__virtual_env(env_name)\n",
    "install_package(env_name, package_name)\n",
    "list_installed_packages(env_name)\n",
    "upgrade_package(env_name, package_name)\n",
    "list_installed_packages(env_name)\n",
    "uninstall_package(env_name, package_name)\n",
    "list_installed_packages(env_name)\n",
    "deactivate_virtual_env()"
   ]
  },
  {
   "cell_type": "code",
   "execution_count": null,
   "id": "fba2cbb9",
   "metadata": {},
   "outputs": [],
   "source": []
  }
 ],
 "metadata": {
  "kernelspec": {
   "display_name": "Python 3 (ipykernel)",
   "language": "python",
   "name": "python3"
  },
  "language_info": {
   "codemirror_mode": {
    "name": "ipython",
    "version": 3
   },
   "file_extension": ".py",
   "mimetype": "text/x-python",
   "name": "python",
   "nbconvert_exporter": "python",
   "pygments_lexer": "ipython3",
   "version": "3.11.4"
  }
 },
 "nbformat": 4,
 "nbformat_minor": 5
}
