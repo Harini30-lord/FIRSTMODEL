{
 "cells": [
  {
   "cell_type": "markdown",
   "id": "d0e1b41c",
   "metadata": {},
   "source": [
    "# 1.function for list the even and odd number in list\n",
    "\n"
   ]
  },
  {
   "cell_type": "code",
   "execution_count": 3,
   "id": "b4c36c87",
   "metadata": {},
   "outputs": [
    {
     "name": "stdout",
     "output_type": "stream",
     "text": [
      "Even numbers in the list:  3\n",
      "Odd numbers in the list:  8\n"
     ]
    }
   ],
   "source": [
    "# function for list odd and even number \n",
    "\n",
    "even_count = 0  # even counter\n",
    "i = 0         # initialze,i\n",
    "odd_count\n",
    "\n",
    "\n",
    "def evenoddcount(lst):\n",
    "                               # defining local counters as global variable\n",
    "    global even_count\n",
    "    global odd_count\n",
    "    global i\n",
    "    if lst[i] % 2 == 0:        # check if number is even\n",
    "        even_count += 1\n",
    "    else:                          # if number is odd\n",
    "        odd_count += 1\n",
    "    if i in range(len(lst)-1):\n",
    "        i += 1                      \n",
    "        evenoddcount(lst)  # calling fonction recursively\n",
    "    else:\n",
    "        print(\"Even numbers in the list: \", even_count)\n",
    "        print(\"Odd numbers in the list: \", odd_count)\n",
    " \n",
    " \n",
    "list1 = [10, 21, 4, 45, 66, 93, 1]\n",
    "evenoddcount(list1)\n",
    "\n"
   ]
  },
  {
   "cell_type": "code",
   "execution_count": 6,
   "id": "2a2f6ca8",
   "metadata": {},
   "outputs": [
    {
     "name": "stdout",
     "output_type": "stream",
     "text": [
      "Enter the size of the First List ::3\n",
      "Enter the Element of First  List ::\n",
      "4\n",
      "7\n",
      "2\n",
      "Even lists: [4, 2]\n",
      "Odd lists: [7]\n"
     ]
    }
   ],
   "source": [
    "# 1.function for list odd and even number\n",
    "\n",
    "def splitevenodd(A): \n",
    "   evenlist = [] \n",
    "   oddlist = [] \n",
    "   for i in A: \n",
    "      if (i % 2 == 0): \n",
    "         evenlist.append(i) \n",
    "      else: \n",
    "         oddlist.append(i) \n",
    "   print(\"Even lists:\", evenlist) \n",
    "   print(\"Odd lists:\", oddlist) \n",
    "  \n",
    "# Driver Code \n",
    "A=list()\n",
    "n=int(input(\"Enter the size of the First List ::\"))\n",
    "print(\"Enter the Element of First  List ::\")\n",
    "for i in range(int(n)):\n",
    "   k=int(input(\"\"))\n",
    "   A.append(k)\n",
    "splitevenodd(A)"
   ]
  },
  {
   "cell_type": "code",
   "execution_count": 9,
   "id": "c1efa349",
   "metadata": {},
   "outputs": [
    {
     "name": "stdout",
     "output_type": "stream",
     "text": [
      "All Integers Within The Range 100-200 Whose Sum Of Digits Is An Even Number is = ['200', '202', '204', '206', '208', '211', '213', '215', '217', '219', '220', '222', '224', '226', '228', '231', '233', '235', '237', '239', '240', '242', '244', '246', '248', '251', '253', '255', '257', '259', '260', '262', '264', '266', '268', '271', '273', '275', '277', '279', '280', '282', '284', '286', '288', '291', '293', '295', '297', '299']\n"
     ]
    }
   ],
   "source": [
    "\n",
    "list=[]                   # 11. display the integers range from 200 to 300 sum of number\n",
    "for i in range(200,301):  # generating range 200 - 300\n",
    "    i=str(i)              \n",
    "    sum=0                 # sum of digits of individual number \n",
    "    for j in i:           \n",
    "        j=int(j)          \n",
    "        sum=sum+j         \n",
    "    if sum%2==0:      \n",
    "        list.append(i)    \n",
    "print('All Integers Within The Range 100-200 Whose Sum Of Digits Is An Even Number is =',list)\n"
   ]
  },
  {
   "cell_type": "code",
   "execution_count": 16,
   "id": "94ed72a2",
   "metadata": {},
   "outputs": [
    {
     "name": "stdout",
     "output_type": "stream",
     "text": [
      "Number of digits :  11\n",
      "36\n"
     ]
    }
   ],
   "source": [
    "# 12.count the number of digits in integer\n",
    "\n",
    "def countDigit(n):\n",
    "    if n//10 == 0:\n",
    "        return 1\n",
    "    return 1 + countDigit(n // 10)\n",
    "  \n",
    "  \n",
    "\n",
    "n = 34528946756\n",
    "print(\"Number of digits : % d\" % (countDigit(n)))\n",
    "  \n",
    "\n",
    "# sum of digits in given integer\n",
    "\n",
    "\n",
    "def sumDigits(no):\n",
    "    return 0 if no == 0 else int(no % 10) + sumDigits(int(no / 10)) \n",
    "   \n",
    "# Driver code\n",
    "n = 12345678\n",
    "print(sumDigits(n))\n"
   ]
  },
  {
   "cell_type": "code",
   "execution_count": 25,
   "id": "830e2b2d",
   "metadata": {},
   "outputs": [
    {
     "name": "stdout",
     "output_type": "stream",
     "text": [
      "True\n",
      "False\n",
      "True\n",
      "False\n"
     ]
    }
   ],
   "source": [
    "# 13.sorted the parameter and return as true\n",
    "\n",
    "\n",
    "def is_sorted(listik):\n",
    "    if sorted(listik) == listik:\n",
    "        return True\n",
    "    else:\n",
    "        return False\n",
    "    \n",
    "print(is_sorted([1,2,2])) \n",
    "print(is_sorted([1,2,1,2])) \n",
    "print(is_sorted([]))\n",
    "print(is_sorted(['b','a']))\n"
   ]
  },
  {
   "cell_type": "code",
   "execution_count": 36,
   "id": "a1c252a1",
   "metadata": {},
   "outputs": [
    {
     "name": "stdout",
     "output_type": "stream",
     "text": [
      "[10, 30, 70, 120, 180]\n"
     ]
    }
   ],
   "source": [
    "# 14.cumulutaive ith element sum of first i+1 in original list\n",
    "\n",
    "def cumSum(s):\n",
    "   sm=0\n",
    "   cum_list=[]\n",
    "   for i in s:\n",
    "      sm=sm+i\n",
    "      cum_list.append(sm)\n",
    "   return cum_list\n",
    "\n",
    "a=[10,20,40,50,60]\n",
    "print(cumSum(a))\n"
   ]
  },
  {
   "cell_type": "code",
   "execution_count": 37,
   "id": "9c351c8e",
   "metadata": {},
   "outputs": [
    {
     "name": "stdout",
     "output_type": "stream",
     "text": [
      "2654\n"
     ]
    }
   ],
   "source": [
    "#10.reverse order using function without inbuilt function\n",
    "\n",
    "n = 6789\n",
    "rev = 0\n",
    " \n",
    "while(n > 0):\n",
    "    a = n % 10\n",
    "    rev = rev * 10 + a\n",
    "    n = n // 10\n",
    " \n",
    "print(rev)\n",
    " "
   ]
  },
  {
   "cell_type": "code",
   "execution_count": 40,
   "id": "a3c901ee",
   "metadata": {},
   "outputs": [
    {
     "name": "stdout",
     "output_type": "stream",
     "text": [
      "Reverse of no. is  654321\n"
     ]
    }
   ],
   "source": [
    "# 10.reverse order using function\n",
    "\n",
    "rev_num = 0\n",
    "base_position = 1\n",
    " \n",
    "def reverseDigits(num):\n",
    "    global rev_num\n",
    "    global base_position\n",
    "    if(num > 0):\n",
    "        reverseDigits((int)(num / 10))\n",
    "        rev_num += (num % 10) * base_position\n",
    "        base_position *= 10\n",
    "    return rev_num\n",
    " \n",
    " \n",
    "                    \n",
    "num = 123456\n",
    "print(\"Reverse of no. is \",\n",
    "      reverseDigits(num))\n",
    " "
   ]
  },
  {
   "cell_type": "code",
   "execution_count": 44,
   "id": "4625f132",
   "metadata": {},
   "outputs": [
    {
     "name": "stdout",
     "output_type": "stream",
     "text": [
      "0\n",
      "1\n",
      "1\n",
      "2\n",
      "3\n",
      "5\n",
      "8\n",
      "13\n",
      "21\n",
      "34\n",
      "55\n",
      "89\n",
      "144\n",
      "233\n",
      "377\n",
      "610\n",
      "987\n"
     ]
    }
   ],
   "source": [
    "# fibonacci series using function\n",
    "\n",
    "def fib_series(n):\n",
    "    n1 = 0\n",
    "    n2 = 1\n",
    "    if n == 1:\n",
    "        print(n1)\n",
    "    else:\n",
    "        print(n1)\n",
    "        print(n2)\n",
    "        for i in range(2,n):\n",
    "            t = n1 + n2\n",
    "            n1 = n2\n",
    "            n2 = t\n",
    "            print(t)\n",
    "fib_series(17)\n"
   ]
  },
  {
   "cell_type": "code",
   "execution_count": 43,
   "id": "d4a5e88b",
   "metadata": {},
   "outputs": [
    {
     "name": "stdout",
     "output_type": "stream",
     "text": [
      "Fibonacci sequence:\n",
      "0\n",
      "1\n",
      "1\n",
      "2\n",
      "3\n",
      "5\n",
      "8\n",
      "13\n",
      "21\n",
      "34\n",
      "55\n",
      "89\n",
      "144\n",
      "233\n",
      "377\n"
     ]
    }
   ],
   "source": [
    "# 9. fibonacci series using recursion function\n",
    "\n",
    "def recursion_fib(num):\n",
    "   if num <= 1:\n",
    "       return num\n",
    "   else:\n",
    "       return(recursion_fib(num-1) + recursion_fib(num-2))\n",
    "n = 15\n",
    "if n <= 0:\n",
    "   print(\"Plese enter a positive integer\")\n",
    "else:\n",
    "   print(\"Fibonacci sequence:\")\n",
    "   for i in range(n):\n",
    "       print(recursion_fib(i))\n"
   ]
  },
  {
   "cell_type": "code",
   "execution_count": 46,
   "id": "909f1889",
   "metadata": {},
   "outputs": [
    {
     "name": "stdout",
     "output_type": "stream",
     "text": [
      "The factorial of 3 is 6\n"
     ]
    }
   ],
   "source": [
    "# 8.factorial using recursive function\n",
    "\n",
    "def recursive_factorial(n):\n",
    "   if n == 1:\n",
    "       return n\n",
    "   else:\n",
    "       return n*recursive_factorial(n-1)\n",
    "\n",
    "num = 3\n",
    "                                             # check if the number is negative   \n",
    "if num < 0:\n",
    "   print(\"Sorry, factorial does not exist for negative numbers\")\n",
    "elif num == 0:\n",
    "   print(\"The factorial of 0 is 1\")\n",
    "else:\n",
    "   print(\"The factorial of\", num, \"is\", recursive_factorial(num))\n"
   ]
  },
  {
   "cell_type": "code",
   "execution_count": 52,
   "id": "35dd33fe",
   "metadata": {},
   "outputs": [
    {
     "name": "stdout",
     "output_type": "stream",
     "text": [
      "N.number of vowels : 9\n"
     ]
    }
   ],
   "source": [
    "#7.count number of vowels in string\n",
    "\n",
    "def vowel_count(str):\n",
    "    vowels = \"aeiouAEIOU\"\n",
    "    count = len([char for char in str if char in vowels])\n",
    "    print(\"N.number of vowels :\", count)                          \n",
    "str = \"lets get through the tough life\"\n",
    " \n",
    "vowel_count(str)"
   ]
  },
  {
   "cell_type": "code",
   "execution_count": 54,
   "id": "ac04047c",
   "metadata": {},
   "outputs": [
    {
     "name": "stdout",
     "output_type": "stream",
     "text": [
      "[[51, 54], [59, 46], [193, 176]]\n"
     ]
    }
   ],
   "source": [
    "#6.matrix multiplication\n",
    "\n",
    "A = [[1,2,3],[5,3,1],[7,9,8]]\n",
    "B = [[3,4],[12,4],[8,14]]\n",
    " \n",
    "# retrieving the sizes/dimensions of the matrices\n",
    "p = len(A)\n",
    "q = len(A[0])\n",
    " \n",
    "t = len(B)\n",
    "r = len(B[0])\n",
    " \n",
    "if(q!=t):\n",
    "   print(\"Error! Matrix sizes are not compatible\")\n",
    "   quit()\n",
    " \n",
    "             # creating the product matrix of dimensions p×r\n",
    "              # and filling the matrix with 0 entries\n",
    "C = []\n",
    "for row in range(p):\n",
    "   curr_row = []\n",
    "   for col in range(r):\n",
    "       curr_row.append(0)\n",
    "   C.append(curr_row)\n",
    " \n",
    " \n",
    "                  # performing the matrix multiplication\n",
    "for i in range(p):\n",
    "   for j in range(r):\n",
    "       curr_val = 0\n",
    "       for k in range(q):\n",
    "           curr_val += A[i][k]*B[k][j]\n",
    "       C[i][j] = curr_val\n",
    " \n",
    "print(C)\n",
    "\n",
    "\n",
    "\n"
   ]
  },
  {
   "cell_type": "code",
   "execution_count": 56,
   "id": "e17b2f6f",
   "metadata": {},
   "outputs": [
    {
     "name": "stdout",
     "output_type": "stream",
     "text": [
      "2 3 5 7 11 13 17 \n",
      "2 3 5 7 11 13 17 19 23 \n"
     ]
    }
   ],
   "source": [
    "# 5.first n prime number\n",
    "\n",
    "def generateprime(N):\n",
    "    primes = [2]  \n",
    "    num = 3  \n",
    "    while len(primes) < N:  \n",
    "        is_prime = True  \n",
    "        for i in range(len(primes)):\n",
    "            if num % primes[i] == 0:  \n",
    "                is_prime = False  \n",
    "                break  \n",
    "        if is_prime:  \n",
    "            primes.append(num)  \n",
    "        num += 2  \n",
    " \n",
    "    for i in range(len(primes)):  \n",
    "        print(primes[i], end=\" \")\n",
    "    print()\n",
    " \n",
    "               \n",
    "n = 7\n",
    "generateprime(n)\n",
    " \n",
    "                      \n",
    "n = 9\n",
    "generateprime(n)"
   ]
  },
  {
   "cell_type": "code",
   "execution_count": 63,
   "id": "0db11ad7",
   "metadata": {},
   "outputs": [
    {
     "name": "stdout",
     "output_type": "stream",
     "text": [
      "116335\n"
     ]
    }
   ],
   "source": [
    "#4.multiple 3 or 5\n",
    "\n",
    "n = 0\n",
    "for i in range(1,500):\n",
    "     if  i % 5 or  i % 3:\n",
    "         n = n + i\n",
    "print(n)\n"
   ]
  },
  {
   "cell_type": "code",
   "execution_count": 64,
   "id": "77937820",
   "metadata": {},
   "outputs": [
    {
     "name": "stdout",
     "output_type": "stream",
     "text": [
      "Sum of multiples of 3 or 5: 57918\n"
     ]
    }
   ],
   "source": [
    "#4. multiple\n",
    "\n",
    "def sum(n):\n",
    "    sum = 0\n",
    "    for i in range(n):\n",
    "        if (i%3 == 0 or i%5 == 0):\n",
    "            sum+=i\n",
    "    print(\"Sum of multiples of 3 or 5:\",sum)\n",
    "n=500\n",
    "sum(n)\n"
   ]
  },
  {
   "cell_type": "code",
   "execution_count": 65,
   "id": "d14bc122",
   "metadata": {},
   "outputs": [
    {
     "name": "stdout",
     "output_type": "stream",
     "text": [
      "Enter n:2\n",
      "5\n",
      "8\n",
      "[5, 8]\n",
      "Count of even nos: 1\n"
     ]
    }
   ],
   "source": [
    "#count the even number\n",
    "\n",
    "def func(list):\n",
    "    evenlist=[] \n",
    "    evencount=0\n",
    "    for i in list: \n",
    "        if(i%2==0): \n",
    "            evencount+=1\n",
    "    print(\"Count of even nos:\",evencount)\n",
    "n=int(input(\"Enter n:\"))\n",
    "list=[]\n",
    "for i in range(0,n):\n",
    "    list.append(int(input()))\n",
    "print(list) \n",
    "func(list)\n"
   ]
  },
  {
   "cell_type": "code",
   "execution_count": 66,
   "id": "5546a27e",
   "metadata": {},
   "outputs": [
    {
     "name": "stdout",
     "output_type": "stream",
     "text": [
      "Enter n:7\n",
      "9\n",
      "0\n",
      "6\n",
      "0\n",
      "5\n",
      "8\n",
      "9\n",
      "[9, 0, 6, 0, 5, 8, 9]\n",
      "Count of even nos: 4\n"
     ]
    }
   ],
   "source": [
    "#2.even number count\n",
    "\n",
    "def func(list):\n",
    "    evenlist=[] \n",
    "    evencount=0\n",
    "    for i in list: \n",
    "        if(i%2==0): \n",
    "            evencount+=1\n",
    "    print(\"Count of even nos:\",evencount)\n",
    "n=int(input(\"Enter n:\"))\n",
    "list=[]\n",
    "for i in range(0,n):\n",
    "    list.append(int(input()))\n",
    "print(list) \n",
    "func(list)\n"
   ]
  },
  {
   "cell_type": "code",
   "execution_count": 69,
   "id": "5b66b36d",
   "metadata": {},
   "outputs": [
    {
     "name": "stdout",
     "output_type": "stream",
     "text": [
      "[15, 46, 23.0, 70.0, 35.0, 106.0, 53.0, 160.0, 80.0, 40.0, 20.0, 10.0, 5.0, 16.0, 8.0, 4.0, 2.0, 1.0]\n",
      "[20, 10.0, 5.0, 16.0, 8.0, 4.0, 2.0, 1.0]\n"
     ]
    }
   ],
   "source": [
    "#3.3n+1 problem\n",
    "\n",
    "\n",
    "def collatz_sequence(x):\n",
    "    num_seq = [x]\n",
    "    if x < 1:\n",
    "        return []\n",
    "    while x > 1:\n",
    "        if x % 2 == 0:\n",
    "            x = x / 2\n",
    "        else:\n",
    "            x = 3 * x + 1\n",
    "                             # Added line\n",
    "        num_seq.append(x)    \n",
    "    return num_seq\n",
    "\n",
    "print(collatz_sequence(15))\n",
    "\n",
    "print(collatz_sequence(20))\n"
   ]
  },
  {
   "cell_type": "code",
   "execution_count": 70,
   "id": "56315e71",
   "metadata": {},
   "outputs": [
    {
     "name": "stdout",
     "output_type": "stream",
     "text": [
      "[114, 160, 60, 27]\n",
      "[74, 97, 73, 14]\n",
      "[119, 157, 112, 23]\n"
     ]
    }
   ],
   "source": [
    "def matrix_multiply_recursive(A, B):\n",
    "    # check if matrices can be multiplied\n",
    "    if len(A[0]) != len(B):\n",
    "        raise ValueError(\"Invalid matrix dimensions\")\n",
    " \n",
    "                                                                 # initialize result matrix with zeros\n",
    "    result = [[0 for j in range(len(B[0]))] for i in range(len(A))]\n",
    " \n",
    "                                                               # recursive multiplication of matrices\n",
    "    def multiply(A, B, result, i, j, k):\n",
    "        if i >= len(A):\n",
    "            return\n",
    "        if j >= len(B[0]):\n",
    "            return multiply(A, B, result, i+1, 0, 0)\n",
    "        if k >= len(B):\n",
    "            return multiply(A, B, result, i, j+1, 0)\n",
    "        result[i][j] += A[i][k] * B[k][j]\n",
    "        multiply(A, B, result, i, j, k+1)\n",
    " \n",
    "                                             # perform matrix multiplication\n",
    "    multiply(A, B, result, 0, 0, 0)\n",
    "    return result\n",
    " \n",
    " \n",
    "                                                    # example usage\n",
    "A = [[12, 7, 3], [4, 5, 6], [7, 8, 9]]\n",
    "B = [[5, 8, 1, 2], [6, 7, 3, 0], [4, 5, 9, 1]]\n",
    " \n",
    "result = matrix_multiply_recursive(A, B)\n",
    "for row in result:\n",
    "    print(row)\n",
    "\n"
   ]
  },
  {
   "cell_type": "code",
   "execution_count": 74,
   "id": "89d1b473",
   "metadata": {},
   "outputs": [
    {
     "name": "stdout",
     "output_type": "stream",
     "text": [
      "[2, 3, 5, 7]\n"
     ]
    }
   ],
   "source": [
    "#5.prime number n number from a list\n",
    "\n",
    "def prime_numbers(n):\n",
    "    primes = []\n",
    "    for i in range(2, n + 1):\n",
    "        for j in range(2, int(i ** 0.5) + 1):\n",
    "            if i%j == 0:\n",
    "                break\n",
    "        else:\n",
    "            primes.append(i)\n",
    "    return primes\n",
    "\n",
    "prime_list = prime_numbers(n)\n",
    "print(prime_list)\n"
   ]
  },
  {
   "cell_type": "code",
   "execution_count": null,
   "id": "084a0463",
   "metadata": {},
   "outputs": [],
   "source": []
  }
 ],
 "metadata": {
  "kernelspec": {
   "display_name": "Python 3 (ipykernel)",
   "language": "python",
   "name": "python3"
  },
  "language_info": {
   "codemirror_mode": {
    "name": "ipython",
    "version": 3
   },
   "file_extension": ".py",
   "mimetype": "text/x-python",
   "name": "python",
   "nbconvert_exporter": "python",
   "pygments_lexer": "ipython3",
   "version": "3.11.4"
  }
 },
 "nbformat": 4,
 "nbformat_minor": 5
}
